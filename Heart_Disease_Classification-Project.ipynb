{
  "nbformat": 4,
  "nbformat_minor": 0,
  "metadata": {
    "colab": {
      "name": "Heart Disease Classification Project.ipynb",
      "provenance": [],
      "collapsed_sections": [
        "1IslU5fbfqDE",
        "cmroZM4cSL0V",
        "u6ZclduQW0up",
        "OJzxEH1AW0up",
        "2apTs7pzW0up",
        "ldl98Zd5HjD6",
        "HYVO6QXgb0nz"
      ],
      "toc_visible": true
    },
    "kernelspec": {
      "display_name": "Python 3",
      "name": "python3"
    }
  },
  "cells": [
    {
      "cell_type": "markdown",
      "metadata": {
        "id": "kPxve_ybkrFh"
      },
      "source": [
        "# Imports\n",
        "\n",
        "\n",
        "*   *Importing the used libraries in the notebook*\n",
        "*   *Importing the dataset*\n",
        "\n"
      ]
    },
    {
      "cell_type": "code",
      "metadata": {
        "id": "oE0pgG5jk-_g"
      },
      "source": [
        "import pandas as pd\n",
        "import numpy as np\n",
        "import matplotlib.pyplot as plt\n",
        "from sklearn import preprocessing\n",
        "import seaborn as sns\n",
        "from sklearn.model_selection import train_test_split\n",
        "from sklearn.preprocessing import Normalizer\n",
        "from sklearn.preprocessing import StandardScaler\n",
        "from sklearn.decomposition import PCA\n",
        "from sklearn.linear_model import LogisticRegression\n",
        "from sklearn.metrics import accuracy_score\n",
        "from sklearn.model_selection import cross_val_score\n",
        "from sklearn.model_selection import KFold\n",
        "from sklearn.metrics import confusion_matrix\n",
        "from sklearn.metrics import precision_score, recall_score, accuracy_score, f1_score\n",
        "from sklearn.metrics import roc_curve\n",
        "from sklearn.metrics import roc_auc_score\n",
        "from sklearn.neighbors import KNeighborsClassifier\n",
        "from sklearn.model_selection import KFold\n",
        "from sklearn.model_selection import GridSearchCV\n",
        "from sklearn.metrics import classification_report\n",
        "from sklearn.svm import SVC\n",
        "from sklearn.ensemble import RandomForestClassifier\n",
        "from sklearn.model_selection import GridSearchCV\n",
        "from sklearn import metrics\n",
        "from sklearn.linear_model import LogisticRegressionCV"
      ],
      "execution_count": null,
      "outputs": []
    },
    {
      "cell_type": "code",
      "metadata": {
        "id": "xWpIKR7hlStQ"
      },
      "source": [
        "# A modification is needed here to get it from GOOGLE DRIVE instead of uploading it\n",
        "df = pd.read_csv('heart.csv')\n"
      ],
      "execution_count": null,
      "outputs": []
    },
    {
      "cell_type": "code",
      "metadata": {
        "id": "iz0GkI5Q0j4a"
      },
      "source": [
        "# Copying the dataset in a new one that will be cleaned\n",
        "df_clean = df.copy()"
      ],
      "execution_count": null,
      "outputs": []
    },
    {
      "cell_type": "markdown",
      "metadata": {
        "id": "1IslU5fbfqDE"
      },
      "source": [
        "# Dataset Attributes and their descriptions\n",
        "\n",
        "\n",
        "`age`: Age in years, Numerical \n",
        "\n",
        "`sex`:Gender, Categorical\n",
        "\n",
        "    1: Male\n",
        "    0: Female\n",
        "\n",
        "`cp`:Chest pain type, Categorical\n",
        "\n",
        "    0 : Typical angina\n",
        "    1 : Atypical angina\n",
        "    2 : Non-anginal pain\n",
        "    3 : Asymptomatic\n",
        "\n",
        "`trestbps`: Resting blood pressure in mmHg, Numerical\n",
        "\n",
        "`col`:Serum cholesterol in mg/dl, Numerical\n",
        " \n",
        "`fbs`: Fasting blood sugar > 120 mg/dl, Categorical\n",
        "\n",
        "    1 : True\n",
        "    0 : False\n",
        "\n",
        "`restecg`: Resting electrocardiographic results, Categorical\n",
        "\n",
        "    0 : Normal\n",
        "    1 :  having ST-T wave abnormality (T wave inversions and/or ST elevation or depression of > 0.05 mV)\n",
        "    2 :  showing probable or definite left ventricular hypertrophy by Estes' criteria\n",
        "\n",
        "`thalach`: Maximum heart rate achieved, Numerical\n",
        "\n",
        "`exang`: Exercise induced angina, Categorical\n",
        "\n",
        "    1 : Yes\n",
        "    0 : No\n",
        "`oldpeak`: ST depression induced by exercise relative to rest, Numerical\n",
        "\n",
        "`slope`: Slope of the peak exercise ST segment, Categorical\n",
        "\n",
        "    0 : Upsloping\n",
        "    1 : Flat\n",
        "    2 : Downsloping\n",
        "\n",
        "`ca`: Number of major vessels colored by fluoroscopy, Numerical\n",
        "\n",
        "    Range from 0 to 3\n",
        "\n",
        "`thal`: No description provided, Categorical\n",
        "\n",
        "    0 : Normal\n",
        "    1 : Fixed defect\n",
        "    2 : Reversible defect\n",
        "    3 : Not specified\n",
        "\n",
        "`target`: The presence of heart disease, Categorical\n",
        "\n",
        "    1 : Has heart disease\n",
        "    0 : Normal\n",
        "\n",
        "\n",
        "***Reference:***\n",
        "https://archive.ics.uci.edu/ml/datasets/Heart+Disease  "
      ]
    },
    {
      "cell_type": "markdown",
      "metadata": {
        "id": "A_1e2ti8kb6y"
      },
      "source": [
        "# Data Preprocessing and Visualization\n"
      ]
    },
    {
      "cell_type": "code",
      "metadata": {
        "colab": {
          "base_uri": "https://localhost:8080/"
        },
        "id": "FAUI1uijIe1F",
        "outputId": "154f7691-c821-43f1-80ba-7eeeb28eabf3"
      },
      "source": [
        "df.info()"
      ],
      "execution_count": null,
      "outputs": [
        {
          "output_type": "stream",
          "text": [
            "<class 'pandas.core.frame.DataFrame'>\n",
            "RangeIndex: 303 entries, 0 to 302\n",
            "Data columns (total 14 columns):\n",
            " #   Column    Non-Null Count  Dtype  \n",
            "---  ------    --------------  -----  \n",
            " 0   age       303 non-null    int64  \n",
            " 1   sex       303 non-null    int64  \n",
            " 2   cp        303 non-null    int64  \n",
            " 3   trestbps  303 non-null    int64  \n",
            " 4   chol      303 non-null    int64  \n",
            " 5   fbs       303 non-null    int64  \n",
            " 6   restecg   303 non-null    int64  \n",
            " 7   thalach   303 non-null    int64  \n",
            " 8   exang     303 non-null    int64  \n",
            " 9   oldpeak   303 non-null    float64\n",
            " 10  slope     303 non-null    int64  \n",
            " 11  ca        303 non-null    int64  \n",
            " 12  thal      303 non-null    int64  \n",
            " 13  target    303 non-null    int64  \n",
            "dtypes: float64(1), int64(13)\n",
            "memory usage: 33.3 KB\n"
          ],
          "name": "stdout"
        }
      ]
    },
    {
      "cell_type": "markdown",
      "metadata": {
        "id": "aVkKojeFkrtJ"
      },
      "source": [
        "* As noted from the dataset info , there is no null values in the dataset."
      ]
    },
    {
      "cell_type": "code",
      "metadata": {
        "colab": {
          "base_uri": "https://localhost:8080/",
          "height": 427
        },
        "id": "x6RRndiVkpQq",
        "outputId": "26a7605a-65d7-46b5-f8f8-e3dcbefbffa2"
      },
      "source": [
        "#Investigate the statistical description of the data\n",
        "df.describe(percentiles=[0.25,0.5,0.75,0.8,0.85,0.9,0.95])"
      ],
      "execution_count": null,
      "outputs": [
        {
          "output_type": "execute_result",
          "data": {
            "text/html": [
              "<div>\n",
              "<style scoped>\n",
              "    .dataframe tbody tr th:only-of-type {\n",
              "        vertical-align: middle;\n",
              "    }\n",
              "\n",
              "    .dataframe tbody tr th {\n",
              "        vertical-align: top;\n",
              "    }\n",
              "\n",
              "    .dataframe thead th {\n",
              "        text-align: right;\n",
              "    }\n",
              "</style>\n",
              "<table border=\"1\" class=\"dataframe\">\n",
              "  <thead>\n",
              "    <tr style=\"text-align: right;\">\n",
              "      <th></th>\n",
              "      <th>age</th>\n",
              "      <th>sex</th>\n",
              "      <th>cp</th>\n",
              "      <th>trestbps</th>\n",
              "      <th>chol</th>\n",
              "      <th>fbs</th>\n",
              "      <th>restecg</th>\n",
              "      <th>thalach</th>\n",
              "      <th>exang</th>\n",
              "      <th>oldpeak</th>\n",
              "      <th>slope</th>\n",
              "      <th>ca</th>\n",
              "      <th>thal</th>\n",
              "      <th>target</th>\n",
              "    </tr>\n",
              "  </thead>\n",
              "  <tbody>\n",
              "    <tr>\n",
              "      <th>count</th>\n",
              "      <td>303.000000</td>\n",
              "      <td>303.000000</td>\n",
              "      <td>303.000000</td>\n",
              "      <td>303.000000</td>\n",
              "      <td>303.000000</td>\n",
              "      <td>303.000000</td>\n",
              "      <td>303.000000</td>\n",
              "      <td>303.000000</td>\n",
              "      <td>303.000000</td>\n",
              "      <td>303.000000</td>\n",
              "      <td>303.000000</td>\n",
              "      <td>303.000000</td>\n",
              "      <td>303.000000</td>\n",
              "      <td>303.000000</td>\n",
              "    </tr>\n",
              "    <tr>\n",
              "      <th>mean</th>\n",
              "      <td>54.366337</td>\n",
              "      <td>0.683168</td>\n",
              "      <td>0.966997</td>\n",
              "      <td>131.623762</td>\n",
              "      <td>246.264026</td>\n",
              "      <td>0.148515</td>\n",
              "      <td>0.528053</td>\n",
              "      <td>149.646865</td>\n",
              "      <td>0.326733</td>\n",
              "      <td>1.039604</td>\n",
              "      <td>1.399340</td>\n",
              "      <td>0.729373</td>\n",
              "      <td>2.313531</td>\n",
              "      <td>0.544554</td>\n",
              "    </tr>\n",
              "    <tr>\n",
              "      <th>std</th>\n",
              "      <td>9.082101</td>\n",
              "      <td>0.466011</td>\n",
              "      <td>1.032052</td>\n",
              "      <td>17.538143</td>\n",
              "      <td>51.830751</td>\n",
              "      <td>0.356198</td>\n",
              "      <td>0.525860</td>\n",
              "      <td>22.905161</td>\n",
              "      <td>0.469794</td>\n",
              "      <td>1.161075</td>\n",
              "      <td>0.616226</td>\n",
              "      <td>1.022606</td>\n",
              "      <td>0.612277</td>\n",
              "      <td>0.498835</td>\n",
              "    </tr>\n",
              "    <tr>\n",
              "      <th>min</th>\n",
              "      <td>29.000000</td>\n",
              "      <td>0.000000</td>\n",
              "      <td>0.000000</td>\n",
              "      <td>94.000000</td>\n",
              "      <td>126.000000</td>\n",
              "      <td>0.000000</td>\n",
              "      <td>0.000000</td>\n",
              "      <td>71.000000</td>\n",
              "      <td>0.000000</td>\n",
              "      <td>0.000000</td>\n",
              "      <td>0.000000</td>\n",
              "      <td>0.000000</td>\n",
              "      <td>0.000000</td>\n",
              "      <td>0.000000</td>\n",
              "    </tr>\n",
              "    <tr>\n",
              "      <th>25%</th>\n",
              "      <td>47.500000</td>\n",
              "      <td>0.000000</td>\n",
              "      <td>0.000000</td>\n",
              "      <td>120.000000</td>\n",
              "      <td>211.000000</td>\n",
              "      <td>0.000000</td>\n",
              "      <td>0.000000</td>\n",
              "      <td>133.500000</td>\n",
              "      <td>0.000000</td>\n",
              "      <td>0.000000</td>\n",
              "      <td>1.000000</td>\n",
              "      <td>0.000000</td>\n",
              "      <td>2.000000</td>\n",
              "      <td>0.000000</td>\n",
              "    </tr>\n",
              "    <tr>\n",
              "      <th>50%</th>\n",
              "      <td>55.000000</td>\n",
              "      <td>1.000000</td>\n",
              "      <td>1.000000</td>\n",
              "      <td>130.000000</td>\n",
              "      <td>240.000000</td>\n",
              "      <td>0.000000</td>\n",
              "      <td>1.000000</td>\n",
              "      <td>153.000000</td>\n",
              "      <td>0.000000</td>\n",
              "      <td>0.800000</td>\n",
              "      <td>1.000000</td>\n",
              "      <td>0.000000</td>\n",
              "      <td>2.000000</td>\n",
              "      <td>1.000000</td>\n",
              "    </tr>\n",
              "    <tr>\n",
              "      <th>75%</th>\n",
              "      <td>61.000000</td>\n",
              "      <td>1.000000</td>\n",
              "      <td>2.000000</td>\n",
              "      <td>140.000000</td>\n",
              "      <td>274.500000</td>\n",
              "      <td>0.000000</td>\n",
              "      <td>1.000000</td>\n",
              "      <td>166.000000</td>\n",
              "      <td>1.000000</td>\n",
              "      <td>1.600000</td>\n",
              "      <td>2.000000</td>\n",
              "      <td>1.000000</td>\n",
              "      <td>3.000000</td>\n",
              "      <td>1.000000</td>\n",
              "    </tr>\n",
              "    <tr>\n",
              "      <th>80%</th>\n",
              "      <td>62.000000</td>\n",
              "      <td>1.000000</td>\n",
              "      <td>2.000000</td>\n",
              "      <td>144.000000</td>\n",
              "      <td>285.200000</td>\n",
              "      <td>0.000000</td>\n",
              "      <td>1.000000</td>\n",
              "      <td>170.000000</td>\n",
              "      <td>1.000000</td>\n",
              "      <td>1.900000</td>\n",
              "      <td>2.000000</td>\n",
              "      <td>2.000000</td>\n",
              "      <td>3.000000</td>\n",
              "      <td>1.000000</td>\n",
              "    </tr>\n",
              "    <tr>\n",
              "      <th>85%</th>\n",
              "      <td>64.000000</td>\n",
              "      <td>1.000000</td>\n",
              "      <td>2.000000</td>\n",
              "      <td>150.000000</td>\n",
              "      <td>298.700000</td>\n",
              "      <td>0.000000</td>\n",
              "      <td>1.000000</td>\n",
              "      <td>173.000000</td>\n",
              "      <td>1.000000</td>\n",
              "      <td>2.200000</td>\n",
              "      <td>2.000000</td>\n",
              "      <td>2.000000</td>\n",
              "      <td>3.000000</td>\n",
              "      <td>1.000000</td>\n",
              "    </tr>\n",
              "    <tr>\n",
              "      <th>90%</th>\n",
              "      <td>66.000000</td>\n",
              "      <td>1.000000</td>\n",
              "      <td>2.000000</td>\n",
              "      <td>152.000000</td>\n",
              "      <td>308.800000</td>\n",
              "      <td>1.000000</td>\n",
              "      <td>1.000000</td>\n",
              "      <td>176.600000</td>\n",
              "      <td>1.000000</td>\n",
              "      <td>2.800000</td>\n",
              "      <td>2.000000</td>\n",
              "      <td>2.000000</td>\n",
              "      <td>3.000000</td>\n",
              "      <td>1.000000</td>\n",
              "    </tr>\n",
              "    <tr>\n",
              "      <th>95%</th>\n",
              "      <td>68.000000</td>\n",
              "      <td>1.000000</td>\n",
              "      <td>3.000000</td>\n",
              "      <td>160.000000</td>\n",
              "      <td>326.900000</td>\n",
              "      <td>1.000000</td>\n",
              "      <td>1.000000</td>\n",
              "      <td>181.900000</td>\n",
              "      <td>1.000000</td>\n",
              "      <td>3.400000</td>\n",
              "      <td>2.000000</td>\n",
              "      <td>3.000000</td>\n",
              "      <td>3.000000</td>\n",
              "      <td>1.000000</td>\n",
              "    </tr>\n",
              "    <tr>\n",
              "      <th>max</th>\n",
              "      <td>77.000000</td>\n",
              "      <td>1.000000</td>\n",
              "      <td>3.000000</td>\n",
              "      <td>200.000000</td>\n",
              "      <td>564.000000</td>\n",
              "      <td>1.000000</td>\n",
              "      <td>2.000000</td>\n",
              "      <td>202.000000</td>\n",
              "      <td>1.000000</td>\n",
              "      <td>6.200000</td>\n",
              "      <td>2.000000</td>\n",
              "      <td>4.000000</td>\n",
              "      <td>3.000000</td>\n",
              "      <td>1.000000</td>\n",
              "    </tr>\n",
              "  </tbody>\n",
              "</table>\n",
              "</div>"
            ],
            "text/plain": [
              "              age         sex          cp  ...          ca        thal      target\n",
              "count  303.000000  303.000000  303.000000  ...  303.000000  303.000000  303.000000\n",
              "mean    54.366337    0.683168    0.966997  ...    0.729373    2.313531    0.544554\n",
              "std      9.082101    0.466011    1.032052  ...    1.022606    0.612277    0.498835\n",
              "min     29.000000    0.000000    0.000000  ...    0.000000    0.000000    0.000000\n",
              "25%     47.500000    0.000000    0.000000  ...    0.000000    2.000000    0.000000\n",
              "50%     55.000000    1.000000    1.000000  ...    0.000000    2.000000    1.000000\n",
              "75%     61.000000    1.000000    2.000000  ...    1.000000    3.000000    1.000000\n",
              "80%     62.000000    1.000000    2.000000  ...    2.000000    3.000000    1.000000\n",
              "85%     64.000000    1.000000    2.000000  ...    2.000000    3.000000    1.000000\n",
              "90%     66.000000    1.000000    2.000000  ...    2.000000    3.000000    1.000000\n",
              "95%     68.000000    1.000000    3.000000  ...    3.000000    3.000000    1.000000\n",
              "max     77.000000    1.000000    3.000000  ...    4.000000    3.000000    1.000000\n",
              "\n",
              "[12 rows x 14 columns]"
            ]
          },
          "metadata": {
            "tags": []
          },
          "execution_count": 224
        }
      ]
    },
    {
      "cell_type": "markdown",
      "metadata": {
        "id": "NiArs10lMlR6"
      },
      "source": [
        "* oldpeak & chol are likely to have outliers since the standard deviation is relatively high.\n",
        "\n",
        "* In the above description for the data, we added more percentiles above 75% to get an intution about the outliers in the data attributes if any, like in `resting electrocardiographic results` attribute for example."
      ]
    },
    {
      "cell_type": "code",
      "metadata": {
        "colab": {
          "base_uri": "https://localhost:8080/"
        },
        "id": "-J4K6TwKmHBc",
        "outputId": "aa355893-d4be-4ad8-e6e5-16780c5ab656"
      },
      "source": [
        "#Check the number of unique values in each feature\n",
        "df.nunique()"
      ],
      "execution_count": null,
      "outputs": [
        {
          "output_type": "execute_result",
          "data": {
            "text/plain": [
              "age          41\n",
              "sex           2\n",
              "cp            4\n",
              "trestbps     49\n",
              "chol        152\n",
              "fbs           2\n",
              "restecg       3\n",
              "thalach      91\n",
              "exang         2\n",
              "oldpeak      40\n",
              "slope         3\n",
              "ca            5\n",
              "thal          4\n",
              "target        2\n",
              "dtype: int64"
            ]
          },
          "metadata": {
            "tags": []
          },
          "execution_count": 225
        }
      ]
    },
    {
      "cell_type": "code",
      "metadata": {
        "colab": {
          "base_uri": "https://localhost:8080/"
        },
        "id": "cLk7-c1UR1Wq",
        "outputId": "3b097ca2-ccb9-443f-e717-8888813cfb30"
      },
      "source": [
        "#Checking the values' counts for each column\n",
        "v_c = {}\n",
        "for col in df.columns:\n",
        "    v_c [col] = [df[col].value_counts()]\n",
        "v_c"
      ],
      "execution_count": null,
      "outputs": [
        {
          "output_type": "execute_result",
          "data": {
            "text/plain": [
              "{'age': [58    19\n",
              "  57    17\n",
              "  54    16\n",
              "  59    14\n",
              "  52    13\n",
              "  51    12\n",
              "  62    11\n",
              "  44    11\n",
              "  60    11\n",
              "  56    11\n",
              "  64    10\n",
              "  41    10\n",
              "  63     9\n",
              "  67     9\n",
              "  55     8\n",
              "  45     8\n",
              "  42     8\n",
              "  53     8\n",
              "  61     8\n",
              "  65     8\n",
              "  43     8\n",
              "  66     7\n",
              "  50     7\n",
              "  48     7\n",
              "  46     7\n",
              "  49     5\n",
              "  47     5\n",
              "  39     4\n",
              "  35     4\n",
              "  68     4\n",
              "  70     4\n",
              "  40     3\n",
              "  71     3\n",
              "  69     3\n",
              "  38     3\n",
              "  34     2\n",
              "  37     2\n",
              "  77     1\n",
              "  76     1\n",
              "  74     1\n",
              "  29     1\n",
              "  Name: age, dtype: int64], 'ca': [0    175\n",
              "  1     65\n",
              "  2     38\n",
              "  3     20\n",
              "  4      5\n",
              "  Name: ca, dtype: int64], 'chol': [234    6\n",
              "  204    6\n",
              "  197    6\n",
              "  269    5\n",
              "  212    5\n",
              "        ..\n",
              "  278    1\n",
              "  281    1\n",
              "  284    1\n",
              "  290    1\n",
              "  564    1\n",
              "  Name: chol, Length: 152, dtype: int64], 'cp': [0    143\n",
              "  2     87\n",
              "  1     50\n",
              "  3     23\n",
              "  Name: cp, dtype: int64], 'exang': [0    204\n",
              "  1     99\n",
              "  Name: exang, dtype: int64], 'fbs': [0    258\n",
              "  1     45\n",
              "  Name: fbs, dtype: int64], 'oldpeak': [0.0    99\n",
              "  1.2    17\n",
              "  0.6    14\n",
              "  1.0    14\n",
              "  0.8    13\n",
              "  1.4    13\n",
              "  0.2    12\n",
              "  1.6    11\n",
              "  1.8    10\n",
              "  0.4     9\n",
              "  2.0     9\n",
              "  0.1     7\n",
              "  2.6     6\n",
              "  2.8     6\n",
              "  1.9     5\n",
              "  1.5     5\n",
              "  0.5     5\n",
              "  3.0     5\n",
              "  2.2     4\n",
              "  3.6     4\n",
              "  2.4     3\n",
              "  3.4     3\n",
              "  4.0     3\n",
              "  0.9     3\n",
              "  0.3     3\n",
              "  2.3     2\n",
              "  4.2     2\n",
              "  1.1     2\n",
              "  2.5     2\n",
              "  3.2     2\n",
              "  6.2     1\n",
              "  2.1     1\n",
              "  4.4     1\n",
              "  1.3     1\n",
              "  3.1     1\n",
              "  0.7     1\n",
              "  5.6     1\n",
              "  3.8     1\n",
              "  2.9     1\n",
              "  3.5     1\n",
              "  Name: oldpeak, dtype: int64], 'restecg': [1    152\n",
              "  0    147\n",
              "  2      4\n",
              "  Name: restecg, dtype: int64], 'sex': [1    207\n",
              "  0     96\n",
              "  Name: sex, dtype: int64], 'slope': [2    142\n",
              "  1    140\n",
              "  0     21\n",
              "  Name: slope, dtype: int64], 'target': [1    165\n",
              "  0    138\n",
              "  Name: target, dtype: int64], 'thal': [2    166\n",
              "  3    117\n",
              "  1     18\n",
              "  0      2\n",
              "  Name: thal, dtype: int64], 'thalach': [162    11\n",
              "  160     9\n",
              "  163     9\n",
              "  173     8\n",
              "  152     8\n",
              "         ..\n",
              "  129     1\n",
              "  128     1\n",
              "  127     1\n",
              "  124     1\n",
              "  71      1\n",
              "  Name: thalach, Length: 91, dtype: int64], 'trestbps': [120    37\n",
              "  130    36\n",
              "  140    32\n",
              "  110    19\n",
              "  150    17\n",
              "  138    13\n",
              "  128    12\n",
              "  125    11\n",
              "  160    11\n",
              "  112     9\n",
              "  132     8\n",
              "  118     7\n",
              "  135     6\n",
              "  108     6\n",
              "  124     6\n",
              "  145     5\n",
              "  134     5\n",
              "  152     5\n",
              "  122     4\n",
              "  170     4\n",
              "  100     4\n",
              "  142     3\n",
              "  115     3\n",
              "  136     3\n",
              "  105     3\n",
              "  180     3\n",
              "  126     3\n",
              "  102     2\n",
              "  94      2\n",
              "  144     2\n",
              "  178     2\n",
              "  146     2\n",
              "  148     2\n",
              "  129     1\n",
              "  165     1\n",
              "  101     1\n",
              "  174     1\n",
              "  104     1\n",
              "  172     1\n",
              "  106     1\n",
              "  156     1\n",
              "  164     1\n",
              "  192     1\n",
              "  114     1\n",
              "  155     1\n",
              "  117     1\n",
              "  154     1\n",
              "  123     1\n",
              "  200     1\n",
              "  Name: trestbps, dtype: int64]}"
            ]
          },
          "metadata": {
            "tags": []
          },
          "execution_count": 226
        }
      ]
    },
    {
      "cell_type": "code",
      "metadata": {
        "colab": {
          "base_uri": "https://localhost:8080/"
        },
        "id": "kYIeAgShTUVE",
        "outputId": "68afc606-a96d-47f8-f60d-55e5c4aa0bd0"
      },
      "source": [
        "df[\"sex\"].value_counts()"
      ],
      "execution_count": null,
      "outputs": [
        {
          "output_type": "execute_result",
          "data": {
            "text/plain": [
              "1    207\n",
              "0     96\n",
              "Name: sex, dtype: int64"
            ]
          },
          "metadata": {
            "tags": []
          },
          "execution_count": 227
        }
      ]
    },
    {
      "cell_type": "markdown",
      "metadata": {
        "id": "hfUXmY8ATjlh"
      },
      "source": [
        "**Males are more strongly represented in the dataset than females which might lead to bias**\n"
      ]
    },
    {
      "cell_type": "code",
      "metadata": {
        "colab": {
          "base_uri": "https://localhost:8080/"
        },
        "id": "IwP2LVCCR1kD",
        "outputId": "8da0b154-20ff-4d42-a0b3-6024a27cd6f8"
      },
      "source": [
        "#Check if there are duplicate examples\n",
        "df.duplicated().sum()"
      ],
      "execution_count": null,
      "outputs": [
        {
          "output_type": "execute_result",
          "data": {
            "text/plain": [
              "1"
            ]
          },
          "metadata": {
            "tags": []
          },
          "execution_count": 228
        }
      ]
    },
    {
      "cell_type": "code",
      "metadata": {
        "colab": {
          "base_uri": "https://localhost:8080/"
        },
        "id": "TDvg1FZsIZWu",
        "outputId": "a73ebe4e-13ae-4527-c905-f6ad70c6c0ad"
      },
      "source": [
        "#Check types and null-values\n",
        "df.isnull().sum()"
      ],
      "execution_count": null,
      "outputs": [
        {
          "output_type": "execute_result",
          "data": {
            "text/plain": [
              "age         0\n",
              "sex         0\n",
              "cp          0\n",
              "trestbps    0\n",
              "chol        0\n",
              "fbs         0\n",
              "restecg     0\n",
              "thalach     0\n",
              "exang       0\n",
              "oldpeak     0\n",
              "slope       0\n",
              "ca          0\n",
              "thal        0\n",
              "target      0\n",
              "dtype: int64"
            ]
          },
          "metadata": {
            "tags": []
          },
          "execution_count": 229
        }
      ]
    },
    {
      "cell_type": "code",
      "metadata": {
        "colab": {
          "base_uri": "https://localhost:8080/",
          "height": 832
        },
        "id": "xtoCMVF0TzSL",
        "outputId": "8095936b-7a46-45f9-962b-a799dd04f90e"
      },
      "source": [
        "#Visulaize the attributes\n",
        "df.hist(bins=50, figsize=(20,15))\n",
        "plt.show()"
      ],
      "execution_count": null,
      "outputs": [
        {
          "output_type": "display_data",
          "data": {
            "image/png": "[encoded data removed]",
            "text/plain": [
              "<Figure size 1440x1080 with 16 Axes>"
            ]
          },
          "metadata": {
            "tags": [],
            "needs_background": "light"
          }
        }
      ]
    },
    {
      "cell_type": "markdown",
      "metadata": {
        "id": "l0wbNV0mTzSs"
      },
      "source": [
        "* These histograms in addition to the statistics shown about the features suggest performing normalization to the data in order to use it safely in modelling."
      ]
    },
    {
      "cell_type": "markdown",
      "metadata": {
        "id": "cmroZM4cSL0V"
      },
      "source": [
        "## Assessing\n",
        "\n",
        "1- There appears to be no missing values in dataset.\n",
        "\n",
        "\n",
        "2- The columns' names are not quite clear.\n",
        "\n",
        "   \n",
        "3- There is a 1 duplicated example.\n",
        "\n",
        "4- trestbps (Resting blood pressure) has one value. However, it should have 2 values (Systolic BP and Diastolic BP)\n",
        "\n",
        "5- Serum Cholesterol normal levels range up to 200. However, it can \"rarely\" increase up to 1000 as stated here http://edition.cnn.com/2009/HEALTH/11/24/moh.healthmag.cholesterol.surprises/index.html . In our dataset `chol` ranges from 126 to 564. We cannot consider the high values to be incorrect. They are just outlieres. \n",
        "\n",
        "6- `thal` column has three different values in the documentation \"0,1,2\". However, in the dataset many values appear to have the value \"3\". We cannot know what this value indicates.\n",
        "\n",
        "7- According to this reference https://www.ncbi.nlm.nih.gov/pmc/articles/PMC3273956/ there have been several cases of reported \"heart rate\" above 300. So most of the `thalach` column's values are valid. However, there is a one value = 71 which seems to be incorrect as the column's description is \"**maximum** heart rate achieved\", but it might be an outlier."
      ]
    },
    {
      "cell_type": "markdown",
      "metadata": {
        "id": "Jwqf3RcJSUoN"
      },
      "source": [
        "## Cleaning\n"
      ]
    },
    {
      "cell_type": "code",
      "metadata": {
        "id": "SQEWQVFhSBoa"
      },
      "source": [
        "#creating a copy of the dataset to clean it\n",
        "df_clean = df.copy()"
      ],
      "execution_count": null,
      "outputs": []
    },
    {
      "cell_type": "markdown",
      "metadata": {
        "id": "9hlg32L1W0un"
      },
      "source": [
        "#### **For #2 :** Rename the columns to more meaningful names"
      ]
    },
    {
      "cell_type": "code",
      "metadata": {
        "colab": {
          "base_uri": "https://localhost:8080/",
          "height": 217
        },
        "id": "zCumFg7HW0uo",
        "outputId": "7c81829f-3b43-4e56-9510-473b318a23f2"
      },
      "source": [
        "#Renaming the columns\n",
        "df_clean.columns\n",
        "col = {'cp':'chest_pain_type', 'trestbps':'resting_blood_pressure', 'chol':'serum_cholesterol', 'fbs':'fasting_blood_sugar',\n",
        "       'restecg':'rest_electrocardiographic_res', 'thalach':'max_heart_rate',\n",
        "       'exang':'exercise_induced_angina', 'oldpeak':'ST_depression', 'ca':'vessels_count'}\n",
        "df_clean.rename(columns= col, inplace=True)\n",
        "df_clean.head()"
      ],
      "execution_count": null,
      "outputs": [
        {
          "output_type": "execute_result",
          "data": {
            "text/html": [
              "<div>\n",
              "<style scoped>\n",
              "    .dataframe tbody tr th:only-of-type {\n",
              "        vertical-align: middle;\n",
              "    }\n",
              "\n",
              "    .dataframe tbody tr th {\n",
              "        vertical-align: top;\n",
              "    }\n",
              "\n",
              "    .dataframe thead th {\n",
              "        text-align: right;\n",
              "    }\n",
              "</style>\n",
              "<table border=\"1\" class=\"dataframe\">\n",
              "  <thead>\n",
              "    <tr style=\"text-align: right;\">\n",
              "      <th></th>\n",
              "      <th>age</th>\n",
              "      <th>sex</th>\n",
              "      <th>chest_pain_type</th>\n",
              "      <th>resting_blood_pressure</th>\n",
              "      <th>serum_cholesterol</th>\n",
              "      <th>fasting_blood_sugar</th>\n",
              "      <th>rest_electrocardiographic_res</th>\n",
              "      <th>max_heart_rate</th>\n",
              "      <th>exercise_induced_angina</th>\n",
              "      <th>ST_depression</th>\n",
              "      <th>slope</th>\n",
              "      <th>vessels_count</th>\n",
              "      <th>thal</th>\n",
              "      <th>target</th>\n",
              "    </tr>\n",
              "  </thead>\n",
              "  <tbody>\n",
              "    <tr>\n",
              "      <th>0</th>\n",
              "      <td>63</td>\n",
              "      <td>1</td>\n",
              "      <td>3</td>\n",
              "      <td>145</td>\n",
              "      <td>233</td>\n",
              "      <td>1</td>\n",
              "      <td>0</td>\n",
              "      <td>150</td>\n",
              "      <td>0</td>\n",
              "      <td>2.3</td>\n",
              "      <td>0</td>\n",
              "      <td>0</td>\n",
              "      <td>1</td>\n",
              "      <td>1</td>\n",
              "    </tr>\n",
              "    <tr>\n",
              "      <th>1</th>\n",
              "      <td>37</td>\n",
              "      <td>1</td>\n",
              "      <td>2</td>\n",
              "      <td>130</td>\n",
              "      <td>250</td>\n",
              "      <td>0</td>\n",
              "      <td>1</td>\n",
              "      <td>187</td>\n",
              "      <td>0</td>\n",
              "      <td>3.5</td>\n",
              "      <td>0</td>\n",
              "      <td>0</td>\n",
              "      <td>2</td>\n",
              "      <td>1</td>\n",
              "    </tr>\n",
              "    <tr>\n",
              "      <th>2</th>\n",
              "      <td>41</td>\n",
              "      <td>0</td>\n",
              "      <td>1</td>\n",
              "      <td>130</td>\n",
              "      <td>204</td>\n",
              "      <td>0</td>\n",
              "      <td>0</td>\n",
              "      <td>172</td>\n",
              "      <td>0</td>\n",
              "      <td>1.4</td>\n",
              "      <td>2</td>\n",
              "      <td>0</td>\n",
              "      <td>2</td>\n",
              "      <td>1</td>\n",
              "    </tr>\n",
              "    <tr>\n",
              "      <th>3</th>\n",
              "      <td>56</td>\n",
              "      <td>1</td>\n",
              "      <td>1</td>\n",
              "      <td>120</td>\n",
              "      <td>236</td>\n",
              "      <td>0</td>\n",
              "      <td>1</td>\n",
              "      <td>178</td>\n",
              "      <td>0</td>\n",
              "      <td>0.8</td>\n",
              "      <td>2</td>\n",
              "      <td>0</td>\n",
              "      <td>2</td>\n",
              "      <td>1</td>\n",
              "    </tr>\n",
              "    <tr>\n",
              "      <th>4</th>\n",
              "      <td>57</td>\n",
              "      <td>0</td>\n",
              "      <td>0</td>\n",
              "      <td>120</td>\n",
              "      <td>354</td>\n",
              "      <td>0</td>\n",
              "      <td>1</td>\n",
              "      <td>163</td>\n",
              "      <td>1</td>\n",
              "      <td>0.6</td>\n",
              "      <td>2</td>\n",
              "      <td>0</td>\n",
              "      <td>2</td>\n",
              "      <td>1</td>\n",
              "    </tr>\n",
              "  </tbody>\n",
              "</table>\n",
              "</div>"
            ],
            "text/plain": [
              "   age  sex  chest_pain_type  ...  vessels_count  thal  target\n",
              "0   63    1                3  ...              0     1       1\n",
              "1   37    1                2  ...              0     2       1\n",
              "2   41    0                1  ...              0     2       1\n",
              "3   56    1                1  ...              0     2       1\n",
              "4   57    0                0  ...              0     2       1\n",
              "\n",
              "[5 rows x 14 columns]"
            ]
          },
          "metadata": {
            "tags": []
          },
          "execution_count": 232
        }
      ]
    },
    {
      "cell_type": "markdown",
      "metadata": {
        "id": "HfwVh4gmW0uo"
      },
      "source": [
        "#### **For #3 :** Remove the duplicated value"
      ]
    },
    {
      "cell_type": "code",
      "metadata": {
        "colab": {
          "base_uri": "https://localhost:8080/"
        },
        "id": "5OL4i4ikW0uo",
        "outputId": "bc7ec001-144a-4427-f799-961f2a15b7ee"
      },
      "source": [
        "df_clean.drop_duplicates(inplace=True)\n",
        "df_clean.info()"
      ],
      "execution_count": null,
      "outputs": [
        {
          "output_type": "stream",
          "text": [
            "<class 'pandas.core.frame.DataFrame'>\n",
            "Int64Index: 302 entries, 0 to 302\n",
            "Data columns (total 14 columns):\n",
            " #   Column                         Non-Null Count  Dtype  \n",
            "---  ------                         --------------  -----  \n",
            " 0   age                            302 non-null    int64  \n",
            " 1   sex                            302 non-null    int64  \n",
            " 2   chest_pain_type                302 non-null    int64  \n",
            " 3   resting_blood_pressure         302 non-null    int64  \n",
            " 4   serum_cholesterol              302 non-null    int64  \n",
            " 5   fasting_blood_sugar            302 non-null    int64  \n",
            " 6   rest_electrocardiographic_res  302 non-null    int64  \n",
            " 7   max_heart_rate                 302 non-null    int64  \n",
            " 8   exercise_induced_angina        302 non-null    int64  \n",
            " 9   ST_depression                  302 non-null    float64\n",
            " 10  slope                          302 non-null    int64  \n",
            " 11  vessels_count                  302 non-null    int64  \n",
            " 12  thal                           302 non-null    int64  \n",
            " 13  target                         302 non-null    int64  \n",
            "dtypes: float64(1), int64(13)\n",
            "memory usage: 35.4 KB\n"
          ],
          "name": "stdout"
        }
      ]
    },
    {
      "cell_type": "markdown",
      "metadata": {
        "id": "Z0Bd_5mCW0uo"
      },
      "source": [
        "#### **For #4 :** We can do nothing about this. We can consider the given value as the \"systolic\" blood pressure as its mean is = 131 . After all, we will change nothing. We will just deal with it as it is.\n",
        "\n",
        "#### **For #5 :** We will leave the column as it is.\n",
        "\n",
        "#### **For #6 :** The value \"3\" appears in 117 rows, so we cannot drop these columns. We will deal with this value without knowing its indication.\n",
        "\n",
        "\n",
        "#### **For #7 :** We will leave this example as it is. While training the model, we can examine the effect of removing this example to see whether it will give us better or worse accuracy."
      ]
    },
    {
      "cell_type": "markdown",
      "metadata": {
        "id": "XNUZx2tAW0up"
      },
      "source": [
        "## Questions"
      ]
    },
    {
      "cell_type": "markdown",
      "metadata": {
        "id": "u6ZclduQW0up"
      },
      "source": [
        "#### 1- Is the dataset balanced? "
      ]
    },
    {
      "cell_type": "markdown",
      "metadata": {
        "id": "OJzxEH1AW0up"
      },
      "source": [
        "#### 2- What is the most feature that is correlated to having a heart attack?"
      ]
    },
    {
      "cell_type": "markdown",
      "metadata": {
        "id": "2apTs7pzW0up"
      },
      "source": [
        "#### 3- How many males/females are more prone to having a heart attack?"
      ]
    },
    {
      "cell_type": "markdown",
      "metadata": {
        "id": "ldl98Zd5HjD6"
      },
      "source": [
        "#### 4- How is the maximum heart rate achieved related to the sex?"
      ]
    },
    {
      "cell_type": "markdown",
      "metadata": {
        "id": "nOrAxor5W0up"
      },
      "source": [
        "## Visualizations"
      ]
    },
    {
      "cell_type": "code",
      "metadata": {
        "colab": {
          "base_uri": "https://localhost:8080/",
          "height": 294
        },
        "id": "TWtfjYqgW0up",
        "scrolled": true,
        "outputId": "f3e83110-ad58-4cb0-ba51-016a63648824"
      },
      "source": [
        "#1- count plot of the target\n",
        "ax = sns.countplot(x='target',data=df);\n",
        "ax.set_xticklabels(['Normal', 'Has Heart disease']);\n",
        "ax.set_title('Countplot of the Target');"
      ],
      "execution_count": null,
      "outputs": [
        {
          "output_type": "display_data",
          "data": {
            "image/png": "[encoded data removed]",
            "text/plain": [
              "<Figure size 432x288 with 1 Axes>"
            ]
          },
          "metadata": {
            "tags": [],
            "needs_background": "light"
          }
        }
      ]
    },
    {
      "cell_type": "markdown",
      "metadata": {
        "id": "d0h9iZrHW0uq"
      },
      "source": [
        "* It is clear that examples for people with higher chance of having a heart attack are slightly more present in the dataset. However, as the difference is not that much big, we can say that the dataset is quite balanced."
      ]
    },
    {
      "cell_type": "code",
      "metadata": {
        "colab": {
          "base_uri": "https://localhost:8080/"
        },
        "id": "vIGTxrnwW0uq",
        "outputId": "ede1cfa6-ac65-4874-da9a-7a8d4f30c976"
      },
      "source": [
        "#2-Check the corelated attributes with the 'target' \n",
        "corr_matrix = df_clean.corr()['target']\n",
        "corr_matrix.sort_values(ascending=False)"
      ],
      "execution_count": null,
      "outputs": [
        {
          "output_type": "execute_result",
          "data": {
            "text/plain": [
              "target                           1.000000\n",
              "chest_pain_type                  0.432080\n",
              "max_heart_rate                   0.419955\n",
              "slope                            0.343940\n",
              "rest_electrocardiographic_res    0.134874\n",
              "fasting_blood_sugar             -0.026826\n",
              "serum_cholesterol               -0.081437\n",
              "resting_blood_pressure          -0.146269\n",
              "age                             -0.221476\n",
              "sex                             -0.283609\n",
              "thal                            -0.343101\n",
              "vessels_count                   -0.408992\n",
              "ST_depression                   -0.429146\n",
              "exercise_induced_angina         -0.435601\n",
              "Name: target, dtype: float64"
            ]
          },
          "metadata": {
            "tags": []
          },
          "execution_count": 235
        }
      ]
    },
    {
      "cell_type": "code",
      "metadata": {
        "colab": {
          "base_uri": "https://localhost:8080/"
        },
        "id": "I09Ydx-D5C90",
        "outputId": "4ae6ed9c-0ced-4a48-932a-c0e1a0b2e257"
      },
      "source": [
        "#Get the highest correlated features\n",
        "print(corr_matrix[ corr_matrix<-0.3].index);\n",
        "print(corr_matrix[corr_matrix>0.3].index);"
      ],
      "execution_count": null,
      "outputs": [
        {
          "output_type": "stream",
          "text": [
            "Index(['exercise_induced_angina', 'ST_depression', 'vessels_count', 'thal'], dtype='object')\n",
            "Index(['chest_pain_type', 'max_heart_rate', 'slope', 'target'], dtype='object')\n"
          ],
          "name": "stdout"
        }
      ]
    },
    {
      "cell_type": "code",
      "metadata": {
        "colab": {
          "base_uri": "https://localhost:8080/",
          "height": 197
        },
        "id": "I3T6LWbG5MqA",
        "outputId": "79d63d25-80e5-4079-a7fd-d9ced423e5b1"
      },
      "source": [
        "high_correlated = df_clean[['exercise_induced_angina','ST_depression','vessels_count','thal','chest_pain_type','max_heart_rate','slope']]\n",
        "high_correlated.head()"
      ],
      "execution_count": null,
      "outputs": [
        {
          "output_type": "execute_result",
          "data": {
            "text/html": [
              "<div>\n",
              "<style scoped>\n",
              "    .dataframe tbody tr th:only-of-type {\n",
              "        vertical-align: middle;\n",
              "    }\n",
              "\n",
              "    .dataframe tbody tr th {\n",
              "        vertical-align: top;\n",
              "    }\n",
              "\n",
              "    .dataframe thead th {\n",
              "        text-align: right;\n",
              "    }\n",
              "</style>\n",
              "<table border=\"1\" class=\"dataframe\">\n",
              "  <thead>\n",
              "    <tr style=\"text-align: right;\">\n",
              "      <th></th>\n",
              "      <th>exercise_induced_angina</th>\n",
              "      <th>ST_depression</th>\n",
              "      <th>vessels_count</th>\n",
              "      <th>thal</th>\n",
              "      <th>chest_pain_type</th>\n",
              "      <th>max_heart_rate</th>\n",
              "      <th>slope</th>\n",
              "    </tr>\n",
              "  </thead>\n",
              "  <tbody>\n",
              "    <tr>\n",
              "      <th>0</th>\n",
              "      <td>0</td>\n",
              "      <td>2.3</td>\n",
              "      <td>0</td>\n",
              "      <td>1</td>\n",
              "      <td>3</td>\n",
              "      <td>150</td>\n",
              "      <td>0</td>\n",
              "    </tr>\n",
              "    <tr>\n",
              "      <th>1</th>\n",
              "      <td>0</td>\n",
              "      <td>3.5</td>\n",
              "      <td>0</td>\n",
              "      <td>2</td>\n",
              "      <td>2</td>\n",
              "      <td>187</td>\n",
              "      <td>0</td>\n",
              "    </tr>\n",
              "    <tr>\n",
              "      <th>2</th>\n",
              "      <td>0</td>\n",
              "      <td>1.4</td>\n",
              "      <td>0</td>\n",
              "      <td>2</td>\n",
              "      <td>1</td>\n",
              "      <td>172</td>\n",
              "      <td>2</td>\n",
              "    </tr>\n",
              "    <tr>\n",
              "      <th>3</th>\n",
              "      <td>0</td>\n",
              "      <td>0.8</td>\n",
              "      <td>0</td>\n",
              "      <td>2</td>\n",
              "      <td>1</td>\n",
              "      <td>178</td>\n",
              "      <td>2</td>\n",
              "    </tr>\n",
              "    <tr>\n",
              "      <th>4</th>\n",
              "      <td>1</td>\n",
              "      <td>0.6</td>\n",
              "      <td>0</td>\n",
              "      <td>2</td>\n",
              "      <td>0</td>\n",
              "      <td>163</td>\n",
              "      <td>2</td>\n",
              "    </tr>\n",
              "  </tbody>\n",
              "</table>\n",
              "</div>"
            ],
            "text/plain": [
              "   exercise_induced_angina  ST_depression  ...  max_heart_rate  slope\n",
              "0                        0            2.3  ...             150      0\n",
              "1                        0            3.5  ...             187      0\n",
              "2                        0            1.4  ...             172      2\n",
              "3                        0            0.8  ...             178      2\n",
              "4                        1            0.6  ...             163      2\n",
              "\n",
              "[5 rows x 7 columns]"
            ]
          },
          "metadata": {
            "tags": []
          },
          "execution_count": 237
        }
      ]
    },
    {
      "cell_type": "markdown",
      "metadata": {
        "id": "dU6Gl2gpW0uq"
      },
      "source": [
        "* `chest_pain_type` and `max_heart_rate` have the highest positive correlation to the target, while `exercise_induced_angina`     and `ST_depression` have the highest negative correlation. \n",
        "\n",
        "* `fasting_blood_sugar` and `serum_cholesterol` have the lowest correlation. After training the model, we can test the effect of removing these columns. If the accuracy is not greatly affected, we can drop them."
      ]
    },
    {
      "cell_type": "code",
      "metadata": {
        "colab": {
          "base_uri": "https://localhost:8080/",
          "height": 294
        },
        "id": "1oqUExqmW0uq",
        "outputId": "a13f9b9e-4ad7-41fc-b23b-8702ab1e63ab"
      },
      "source": [
        "#3-target=> 0: less chance of heart attack, 1: more chance of heart attack\n",
        "\n",
        "ax = sns.countplot(x='target', hue='sex', data=df_clean, palette='Set1');\n",
        "legend_labels, _= ax.get_legend_handles_labels()\n",
        "ax.legend(legend_labels, ['Female','Male'], \n",
        "          bbox_to_anchor=(1,1), \n",
        "          title='sex');\n",
        "\n",
        "ax.set_xticklabels(['Normal', 'Has Heart disease']);\n",
        "ax.set_title('Relation between Sex and having a Heart Attack');         \n"
      ],
      "execution_count": null,
      "outputs": [
        {
          "output_type": "display_data",
          "data": {
            "image/png": "[encoded data removed]",
            "text/plain": [
              "<Figure size 432x288 with 1 Axes>"
            ]
          },
          "metadata": {
            "tags": [],
            "needs_background": "light"
          }
        }
      ]
    },
    {
      "cell_type": "markdown",
      "metadata": {
        "id": "yQxI00NRW0uq"
      },
      "source": [
        "*  Males are slightly more likely to have heart attack than females.\n",
        "*  Males are also more likely to be free of heart attack, but this is due the large number of males compared to females in this dataset.\n",
        "\n",
        "\n",
        "  (However, this dataset is very small, so it might not be representative of the whole population)."
      ]
    },
    {
      "cell_type": "code",
      "metadata": {
        "colab": {
          "base_uri": "https://localhost:8080/"
        },
        "id": "ytzZRosZXGzq",
        "outputId": "7ac6998f-adf0-4457-ee90-ce0b9ac7fc20"
      },
      "source": [
        "#To prove the second point\n",
        "ratio_of_males = sum(df_clean['sex'])/df_clean.shape[0]\n",
        "ratio_of_males*100"
      ],
      "execution_count": null,
      "outputs": [
        {
          "output_type": "execute_result",
          "data": {
            "text/plain": [
              "68.21192052980133"
            ]
          },
          "metadata": {
            "tags": []
          },
          "execution_count": 239
        }
      ]
    },
    {
      "cell_type": "code",
      "metadata": {
        "colab": {
          "base_uri": "https://localhost:8080/",
          "height": 294
        },
        "id": "QYWxDo9Vmhw_",
        "outputId": "60a3f14b-c4c5-4344-92e7-fa9bf9f701e9"
      },
      "source": [
        "#4- Plot 'sex' vs 'max_heart_rate' as a box plot\n",
        "ax = sns.boxplot(x='sex',y='max_heart_rate',data=df_clean);\n",
        "ax.set_xticklabels(['Females', 'Males']);\n",
        "ax.set_xlabel('Sex');\n",
        "ax.set_ylabel('Maximum Heart Rate Achieved');\n",
        "ax.set_title('Sex vs Maximum Heart Rate Achieved');"
      ],
      "execution_count": null,
      "outputs": [
        {
          "output_type": "display_data",
          "data": {
            "image/png": "[encoded data removed]",
            "text/plain": [
              "<Figure size 432x288 with 1 Axes>"
            ]
          },
          "metadata": {
            "tags": [],
            "needs_background": "light"
          }
        }
      ]
    },
    {
      "cell_type": "markdown",
      "metadata": {
        "id": "jH-vFo8s8kbf"
      },
      "source": [
        "* Both genders nearly have the same mean of 'max heart rate' with slightly higher mean for Females.\n",
        "* The maximum/minimum values for 'max heart rate' is always related to the males.\n",
        "\n",
        "\n",
        "\n"
      ]
    },
    {
      "cell_type": "markdown",
      "metadata": {
        "id": "mCmNE-3KWaTH"
      },
      "source": [
        "# Split the dataset into Train and Test"
      ]
    },
    {
      "cell_type": "code",
      "metadata": {
        "colab": {
          "base_uri": "https://localhost:8080/",
          "height": 426
        },
        "id": "JcGfmdrdW0ur",
        "outputId": "4819897a-63f4-4fc7-97e4-114f64e0d82b"
      },
      "source": [
        "# spliting the dataset into train and test\n",
        "X = df_clean.drop('target',axis=1)\n",
        "y = df_clean['target']\n",
        "X"
      ],
      "execution_count": null,
      "outputs": [
        {
          "output_type": "execute_result",
          "data": {
            "text/html": [
              "<div>\n",
              "<style scoped>\n",
              "    .dataframe tbody tr th:only-of-type {\n",
              "        vertical-align: middle;\n",
              "    }\n",
              "\n",
              "    .dataframe tbody tr th {\n",
              "        vertical-align: top;\n",
              "    }\n",
              "\n",
              "    .dataframe thead th {\n",
              "        text-align: right;\n",
              "    }\n",
              "</style>\n",
              "<table border=\"1\" class=\"dataframe\">\n",
              "  <thead>\n",
              "    <tr style=\"text-align: right;\">\n",
              "      <th></th>\n",
              "      <th>age</th>\n",
              "      <th>sex</th>\n",
              "      <th>chest_pain_type</th>\n",
              "      <th>resting_blood_pressure</th>\n",
              "      <th>serum_cholesterol</th>\n",
              "      <th>fasting_blood_sugar</th>\n",
              "      <th>rest_electrocardiographic_res</th>\n",
              "      <th>max_heart_rate</th>\n",
              "      <th>exercise_induced_angina</th>\n",
              "      <th>ST_depression</th>\n",
              "      <th>slope</th>\n",
              "      <th>vessels_count</th>\n",
              "      <th>thal</th>\n",
              "    </tr>\n",
              "  </thead>\n",
              "  <tbody>\n",
              "    <tr>\n",
              "      <th>0</th>\n",
              "      <td>63</td>\n",
              "      <td>1</td>\n",
              "      <td>3</td>\n",
              "      <td>145</td>\n",
              "      <td>233</td>\n",
              "      <td>1</td>\n",
              "      <td>0</td>\n",
              "      <td>150</td>\n",
              "      <td>0</td>\n",
              "      <td>2.3</td>\n",
              "      <td>0</td>\n",
              "      <td>0</td>\n",
              "      <td>1</td>\n",
              "    </tr>\n",
              "    <tr>\n",
              "      <th>1</th>\n",
              "      <td>37</td>\n",
              "      <td>1</td>\n",
              "      <td>2</td>\n",
              "      <td>130</td>\n",
              "      <td>250</td>\n",
              "      <td>0</td>\n",
              "      <td>1</td>\n",
              "      <td>187</td>\n",
              "      <td>0</td>\n",
              "      <td>3.5</td>\n",
              "      <td>0</td>\n",
              "      <td>0</td>\n",
              "      <td>2</td>\n",
              "    </tr>\n",
              "    <tr>\n",
              "      <th>2</th>\n",
              "      <td>41</td>\n",
              "      <td>0</td>\n",
              "      <td>1</td>\n",
              "      <td>130</td>\n",
              "      <td>204</td>\n",
              "      <td>0</td>\n",
              "      <td>0</td>\n",
              "      <td>172</td>\n",
              "      <td>0</td>\n",
              "      <td>1.4</td>\n",
              "      <td>2</td>\n",
              "      <td>0</td>\n",
              "      <td>2</td>\n",
              "    </tr>\n",
              "    <tr>\n",
              "      <th>3</th>\n",
              "      <td>56</td>\n",
              "      <td>1</td>\n",
              "      <td>1</td>\n",
              "      <td>120</td>\n",
              "      <td>236</td>\n",
              "      <td>0</td>\n",
              "      <td>1</td>\n",
              "      <td>178</td>\n",
              "      <td>0</td>\n",
              "      <td>0.8</td>\n",
              "      <td>2</td>\n",
              "      <td>0</td>\n",
              "      <td>2</td>\n",
              "    </tr>\n",
              "    <tr>\n",
              "      <th>4</th>\n",
              "      <td>57</td>\n",
              "      <td>0</td>\n",
              "      <td>0</td>\n",
              "      <td>120</td>\n",
              "      <td>354</td>\n",
              "      <td>0</td>\n",
              "      <td>1</td>\n",
              "      <td>163</td>\n",
              "      <td>1</td>\n",
              "      <td>0.6</td>\n",
              "      <td>2</td>\n",
              "      <td>0</td>\n",
              "      <td>2</td>\n",
              "    </tr>\n",
              "    <tr>\n",
              "      <th>...</th>\n",
              "      <td>...</td>\n",
              "      <td>...</td>\n",
              "      <td>...</td>\n",
              "      <td>...</td>\n",
              "      <td>...</td>\n",
              "      <td>...</td>\n",
              "      <td>...</td>\n",
              "      <td>...</td>\n",
              "      <td>...</td>\n",
              "      <td>...</td>\n",
              "      <td>...</td>\n",
              "      <td>...</td>\n",
              "      <td>...</td>\n",
              "    </tr>\n",
              "    <tr>\n",
              "      <th>298</th>\n",
              "      <td>57</td>\n",
              "      <td>0</td>\n",
              "      <td>0</td>\n",
              "      <td>140</td>\n",
              "      <td>241</td>\n",
              "      <td>0</td>\n",
              "      <td>1</td>\n",
              "      <td>123</td>\n",
              "      <td>1</td>\n",
              "      <td>0.2</td>\n",
              "      <td>1</td>\n",
              "      <td>0</td>\n",
              "      <td>3</td>\n",
              "    </tr>\n",
              "    <tr>\n",
              "      <th>299</th>\n",
              "      <td>45</td>\n",
              "      <td>1</td>\n",
              "      <td>3</td>\n",
              "      <td>110</td>\n",
              "      <td>264</td>\n",
              "      <td>0</td>\n",
              "      <td>1</td>\n",
              "      <td>132</td>\n",
              "      <td>0</td>\n",
              "      <td>1.2</td>\n",
              "      <td>1</td>\n",
              "      <td>0</td>\n",
              "      <td>3</td>\n",
              "    </tr>\n",
              "    <tr>\n",
              "      <th>300</th>\n",
              "      <td>68</td>\n",
              "      <td>1</td>\n",
              "      <td>0</td>\n",
              "      <td>144</td>\n",
              "      <td>193</td>\n",
              "      <td>1</td>\n",
              "      <td>1</td>\n",
              "      <td>141</td>\n",
              "      <td>0</td>\n",
              "      <td>3.4</td>\n",
              "      <td>1</td>\n",
              "      <td>2</td>\n",
              "      <td>3</td>\n",
              "    </tr>\n",
              "    <tr>\n",
              "      <th>301</th>\n",
              "      <td>57</td>\n",
              "      <td>1</td>\n",
              "      <td>0</td>\n",
              "      <td>130</td>\n",
              "      <td>131</td>\n",
              "      <td>0</td>\n",
              "      <td>1</td>\n",
              "      <td>115</td>\n",
              "      <td>1</td>\n",
              "      <td>1.2</td>\n",
              "      <td>1</td>\n",
              "      <td>1</td>\n",
              "      <td>3</td>\n",
              "    </tr>\n",
              "    <tr>\n",
              "      <th>302</th>\n",
              "      <td>57</td>\n",
              "      <td>0</td>\n",
              "      <td>1</td>\n",
              "      <td>130</td>\n",
              "      <td>236</td>\n",
              "      <td>0</td>\n",
              "      <td>0</td>\n",
              "      <td>174</td>\n",
              "      <td>0</td>\n",
              "      <td>0.0</td>\n",
              "      <td>1</td>\n",
              "      <td>1</td>\n",
              "      <td>2</td>\n",
              "    </tr>\n",
              "  </tbody>\n",
              "</table>\n",
              "<p>302 rows × 13 columns</p>\n",
              "</div>"
            ],
            "text/plain": [
              "     age  sex  chest_pain_type  ...  slope  vessels_count  thal\n",
              "0     63    1                3  ...      0              0     1\n",
              "1     37    1                2  ...      0              0     2\n",
              "2     41    0                1  ...      2              0     2\n",
              "3     56    1                1  ...      2              0     2\n",
              "4     57    0                0  ...      2              0     2\n",
              "..   ...  ...              ...  ...    ...            ...   ...\n",
              "298   57    0                0  ...      1              0     3\n",
              "299   45    1                3  ...      1              0     3\n",
              "300   68    1                0  ...      1              2     3\n",
              "301   57    1                0  ...      1              1     3\n",
              "302   57    0                1  ...      1              1     2\n",
              "\n",
              "[302 rows x 13 columns]"
            ]
          },
          "metadata": {
            "tags": []
          },
          "execution_count": 241
        }
      ]
    },
    {
      "cell_type": "code",
      "metadata": {
        "colab": {
          "base_uri": "https://localhost:8080/",
          "height": 287
        },
        "id": "GMeftQJkW6Wc",
        "outputId": "cdac8940-5cc3-4d61-c067-9f1d5ece8df4"
      },
      "source": [
        "## Normalizing the numerical data\n",
        "X_numerical = X.drop(['sex','chest_pain_type', 'fasting_blood_sugar', 'rest_electrocardiographic_res','exercise_induced_angina','slope','vessels_count', 'thal'], axis=1)\n",
        "StandardScaler().fit_transform(X_numerical)#the scaler is fitted to the training set \n",
        "X_numerical.describe()"
      ],
      "execution_count": null,
      "outputs": [
        {
          "output_type": "execute_result",
          "data": {
            "text/html": [
              "<div>\n",
              "<style scoped>\n",
              "    .dataframe tbody tr th:only-of-type {\n",
              "        vertical-align: middle;\n",
              "    }\n",
              "\n",
              "    .dataframe tbody tr th {\n",
              "        vertical-align: top;\n",
              "    }\n",
              "\n",
              "    .dataframe thead th {\n",
              "        text-align: right;\n",
              "    }\n",
              "</style>\n",
              "<table border=\"1\" class=\"dataframe\">\n",
              "  <thead>\n",
              "    <tr style=\"text-align: right;\">\n",
              "      <th></th>\n",
              "      <th>age</th>\n",
              "      <th>resting_blood_pressure</th>\n",
              "      <th>serum_cholesterol</th>\n",
              "      <th>max_heart_rate</th>\n",
              "      <th>ST_depression</th>\n",
              "    </tr>\n",
              "  </thead>\n",
              "  <tbody>\n",
              "    <tr>\n",
              "      <th>count</th>\n",
              "      <td>302.00000</td>\n",
              "      <td>302.000000</td>\n",
              "      <td>302.000000</td>\n",
              "      <td>302.000000</td>\n",
              "      <td>302.000000</td>\n",
              "    </tr>\n",
              "    <tr>\n",
              "      <th>mean</th>\n",
              "      <td>54.42053</td>\n",
              "      <td>131.602649</td>\n",
              "      <td>246.500000</td>\n",
              "      <td>149.569536</td>\n",
              "      <td>1.043046</td>\n",
              "    </tr>\n",
              "    <tr>\n",
              "      <th>std</th>\n",
              "      <td>9.04797</td>\n",
              "      <td>17.563394</td>\n",
              "      <td>51.753489</td>\n",
              "      <td>22.903527</td>\n",
              "      <td>1.161452</td>\n",
              "    </tr>\n",
              "    <tr>\n",
              "      <th>min</th>\n",
              "      <td>29.00000</td>\n",
              "      <td>94.000000</td>\n",
              "      <td>126.000000</td>\n",
              "      <td>71.000000</td>\n",
              "      <td>0.000000</td>\n",
              "    </tr>\n",
              "    <tr>\n",
              "      <th>25%</th>\n",
              "      <td>48.00000</td>\n",
              "      <td>120.000000</td>\n",
              "      <td>211.000000</td>\n",
              "      <td>133.250000</td>\n",
              "      <td>0.000000</td>\n",
              "    </tr>\n",
              "    <tr>\n",
              "      <th>50%</th>\n",
              "      <td>55.50000</td>\n",
              "      <td>130.000000</td>\n",
              "      <td>240.500000</td>\n",
              "      <td>152.500000</td>\n",
              "      <td>0.800000</td>\n",
              "    </tr>\n",
              "    <tr>\n",
              "      <th>75%</th>\n",
              "      <td>61.00000</td>\n",
              "      <td>140.000000</td>\n",
              "      <td>274.750000</td>\n",
              "      <td>166.000000</td>\n",
              "      <td>1.600000</td>\n",
              "    </tr>\n",
              "    <tr>\n",
              "      <th>max</th>\n",
              "      <td>77.00000</td>\n",
              "      <td>200.000000</td>\n",
              "      <td>564.000000</td>\n",
              "      <td>202.000000</td>\n",
              "      <td>6.200000</td>\n",
              "    </tr>\n",
              "  </tbody>\n",
              "</table>\n",
              "</div>"
            ],
            "text/plain": [
              "             age  resting_blood_pressure  ...  max_heart_rate  ST_depression\n",
              "count  302.00000              302.000000  ...      302.000000     302.000000\n",
              "mean    54.42053              131.602649  ...      149.569536       1.043046\n",
              "std      9.04797               17.563394  ...       22.903527       1.161452\n",
              "min     29.00000               94.000000  ...       71.000000       0.000000\n",
              "25%     48.00000              120.000000  ...      133.250000       0.000000\n",
              "50%     55.50000              130.000000  ...      152.500000       0.800000\n",
              "75%     61.00000              140.000000  ...      166.000000       1.600000\n",
              "max     77.00000              200.000000  ...      202.000000       6.200000\n",
              "\n",
              "[8 rows x 5 columns]"
            ]
          },
          "metadata": {
            "tags": []
          },
          "execution_count": 242
        }
      ]
    },
    {
      "cell_type": "code",
      "metadata": {
        "id": "6QFXZPMnanwW"
      },
      "source": [
        "for column in X_numerical.columns:\n",
        "  X[column] = X_numerical[column]"
      ],
      "execution_count": null,
      "outputs": []
    },
    {
      "cell_type": "code",
      "metadata": {
        "colab": {
          "base_uri": "https://localhost:8080/",
          "height": 426
        },
        "id": "ZG1kLqXIayul",
        "outputId": "3d2e4fe0-e12f-454c-d784-4cea2877d84a"
      },
      "source": [
        "X"
      ],
      "execution_count": null,
      "outputs": [
        {
          "output_type": "execute_result",
          "data": {
            "text/html": [
              "<div>\n",
              "<style scoped>\n",
              "    .dataframe tbody tr th:only-of-type {\n",
              "        vertical-align: middle;\n",
              "    }\n",
              "\n",
              "    .dataframe tbody tr th {\n",
              "        vertical-align: top;\n",
              "    }\n",
              "\n",
              "    .dataframe thead th {\n",
              "        text-align: right;\n",
              "    }\n",
              "</style>\n",
              "<table border=\"1\" class=\"dataframe\">\n",
              "  <thead>\n",
              "    <tr style=\"text-align: right;\">\n",
              "      <th></th>\n",
              "      <th>age</th>\n",
              "      <th>sex</th>\n",
              "      <th>chest_pain_type</th>\n",
              "      <th>resting_blood_pressure</th>\n",
              "      <th>serum_cholesterol</th>\n",
              "      <th>fasting_blood_sugar</th>\n",
              "      <th>rest_electrocardiographic_res</th>\n",
              "      <th>max_heart_rate</th>\n",
              "      <th>exercise_induced_angina</th>\n",
              "      <th>ST_depression</th>\n",
              "      <th>slope</th>\n",
              "      <th>vessels_count</th>\n",
              "      <th>thal</th>\n",
              "    </tr>\n",
              "  </thead>\n",
              "  <tbody>\n",
              "    <tr>\n",
              "      <th>0</th>\n",
              "      <td>63</td>\n",
              "      <td>1</td>\n",
              "      <td>3</td>\n",
              "      <td>145</td>\n",
              "      <td>233</td>\n",
              "      <td>1</td>\n",
              "      <td>0</td>\n",
              "      <td>150</td>\n",
              "      <td>0</td>\n",
              "      <td>2.3</td>\n",
              "      <td>0</td>\n",
              "      <td>0</td>\n",
              "      <td>1</td>\n",
              "    </tr>\n",
              "    <tr>\n",
              "      <th>1</th>\n",
              "      <td>37</td>\n",
              "      <td>1</td>\n",
              "      <td>2</td>\n",
              "      <td>130</td>\n",
              "      <td>250</td>\n",
              "      <td>0</td>\n",
              "      <td>1</td>\n",
              "      <td>187</td>\n",
              "      <td>0</td>\n",
              "      <td>3.5</td>\n",
              "      <td>0</td>\n",
              "      <td>0</td>\n",
              "      <td>2</td>\n",
              "    </tr>\n",
              "    <tr>\n",
              "      <th>2</th>\n",
              "      <td>41</td>\n",
              "      <td>0</td>\n",
              "      <td>1</td>\n",
              "      <td>130</td>\n",
              "      <td>204</td>\n",
              "      <td>0</td>\n",
              "      <td>0</td>\n",
              "      <td>172</td>\n",
              "      <td>0</td>\n",
              "      <td>1.4</td>\n",
              "      <td>2</td>\n",
              "      <td>0</td>\n",
              "      <td>2</td>\n",
              "    </tr>\n",
              "    <tr>\n",
              "      <th>3</th>\n",
              "      <td>56</td>\n",
              "      <td>1</td>\n",
              "      <td>1</td>\n",
              "      <td>120</td>\n",
              "      <td>236</td>\n",
              "      <td>0</td>\n",
              "      <td>1</td>\n",
              "      <td>178</td>\n",
              "      <td>0</td>\n",
              "      <td>0.8</td>\n",
              "      <td>2</td>\n",
              "      <td>0</td>\n",
              "      <td>2</td>\n",
              "    </tr>\n",
              "    <tr>\n",
              "      <th>4</th>\n",
              "      <td>57</td>\n",
              "      <td>0</td>\n",
              "      <td>0</td>\n",
              "      <td>120</td>\n",
              "      <td>354</td>\n",
              "      <td>0</td>\n",
              "      <td>1</td>\n",
              "      <td>163</td>\n",
              "      <td>1</td>\n",
              "      <td>0.6</td>\n",
              "      <td>2</td>\n",
              "      <td>0</td>\n",
              "      <td>2</td>\n",
              "    </tr>\n",
              "    <tr>\n",
              "      <th>...</th>\n",
              "      <td>...</td>\n",
              "      <td>...</td>\n",
              "      <td>...</td>\n",
              "      <td>...</td>\n",
              "      <td>...</td>\n",
              "      <td>...</td>\n",
              "      <td>...</td>\n",
              "      <td>...</td>\n",
              "      <td>...</td>\n",
              "      <td>...</td>\n",
              "      <td>...</td>\n",
              "      <td>...</td>\n",
              "      <td>...</td>\n",
              "    </tr>\n",
              "    <tr>\n",
              "      <th>298</th>\n",
              "      <td>57</td>\n",
              "      <td>0</td>\n",
              "      <td>0</td>\n",
              "      <td>140</td>\n",
              "      <td>241</td>\n",
              "      <td>0</td>\n",
              "      <td>1</td>\n",
              "      <td>123</td>\n",
              "      <td>1</td>\n",
              "      <td>0.2</td>\n",
              "      <td>1</td>\n",
              "      <td>0</td>\n",
              "      <td>3</td>\n",
              "    </tr>\n",
              "    <tr>\n",
              "      <th>299</th>\n",
              "      <td>45</td>\n",
              "      <td>1</td>\n",
              "      <td>3</td>\n",
              "      <td>110</td>\n",
              "      <td>264</td>\n",
              "      <td>0</td>\n",
              "      <td>1</td>\n",
              "      <td>132</td>\n",
              "      <td>0</td>\n",
              "      <td>1.2</td>\n",
              "      <td>1</td>\n",
              "      <td>0</td>\n",
              "      <td>3</td>\n",
              "    </tr>\n",
              "    <tr>\n",
              "      <th>300</th>\n",
              "      <td>68</td>\n",
              "      <td>1</td>\n",
              "      <td>0</td>\n",
              "      <td>144</td>\n",
              "      <td>193</td>\n",
              "      <td>1</td>\n",
              "      <td>1</td>\n",
              "      <td>141</td>\n",
              "      <td>0</td>\n",
              "      <td>3.4</td>\n",
              "      <td>1</td>\n",
              "      <td>2</td>\n",
              "      <td>3</td>\n",
              "    </tr>\n",
              "    <tr>\n",
              "      <th>301</th>\n",
              "      <td>57</td>\n",
              "      <td>1</td>\n",
              "      <td>0</td>\n",
              "      <td>130</td>\n",
              "      <td>131</td>\n",
              "      <td>0</td>\n",
              "      <td>1</td>\n",
              "      <td>115</td>\n",
              "      <td>1</td>\n",
              "      <td>1.2</td>\n",
              "      <td>1</td>\n",
              "      <td>1</td>\n",
              "      <td>3</td>\n",
              "    </tr>\n",
              "    <tr>\n",
              "      <th>302</th>\n",
              "      <td>57</td>\n",
              "      <td>0</td>\n",
              "      <td>1</td>\n",
              "      <td>130</td>\n",
              "      <td>236</td>\n",
              "      <td>0</td>\n",
              "      <td>0</td>\n",
              "      <td>174</td>\n",
              "      <td>0</td>\n",
              "      <td>0.0</td>\n",
              "      <td>1</td>\n",
              "      <td>1</td>\n",
              "      <td>2</td>\n",
              "    </tr>\n",
              "  </tbody>\n",
              "</table>\n",
              "<p>302 rows × 13 columns</p>\n",
              "</div>"
            ],
            "text/plain": [
              "     age  sex  chest_pain_type  ...  slope  vessels_count  thal\n",
              "0     63    1                3  ...      0              0     1\n",
              "1     37    1                2  ...      0              0     2\n",
              "2     41    0                1  ...      2              0     2\n",
              "3     56    1                1  ...      2              0     2\n",
              "4     57    0                0  ...      2              0     2\n",
              "..   ...  ...              ...  ...    ...            ...   ...\n",
              "298   57    0                0  ...      1              0     3\n",
              "299   45    1                3  ...      1              0     3\n",
              "300   68    1                0  ...      1              2     3\n",
              "301   57    1                0  ...      1              1     3\n",
              "302   57    0                1  ...      1              1     2\n",
              "\n",
              "[302 rows x 13 columns]"
            ]
          },
          "metadata": {
            "tags": []
          },
          "execution_count": 244
        }
      ]
    },
    {
      "cell_type": "code",
      "metadata": {
        "id": "TBiNKjfWVmxh"
      },
      "source": [
        "X_train_original, X_test, y_train_original, y_test = train_test_split(X, y, test_size = 0.1, random_state = 101)\n"
      ],
      "execution_count": null,
      "outputs": []
    },
    {
      "cell_type": "code",
      "metadata": {
        "colab": {
          "base_uri": "https://localhost:8080/"
        },
        "id": "EJQQnMknfNf6",
        "outputId": "da25ecc6-6d89-443d-8178-9a6358a64123"
      },
      "source": [
        "y_train_original"
      ],
      "execution_count": null,
      "outputs": [
        {
          "output_type": "execute_result",
          "data": {
            "text/plain": [
              "13     1\n",
              "228    0\n",
              "171    0\n",
              "128    1\n",
              "119    1\n",
              "      ..\n",
              "40     1\n",
              "75     1\n",
              "87     1\n",
              "63     1\n",
              "11     1\n",
              "Name: target, Length: 271, dtype: int64"
            ]
          },
          "metadata": {
            "tags": []
          },
          "execution_count": 246
        }
      ]
    },
    {
      "cell_type": "markdown",
      "metadata": {
        "id": "xVkaBkr5Ycxf"
      },
      "source": [
        "* We will observe whether the accuracy of the models that we will implement will give better results if the dataset is normalized or not."
      ]
    },
    {
      "cell_type": "markdown",
      "metadata": {
        "id": "GdRQzLgdokuj"
      },
      "source": [
        "# **Features Selection**"
      ]
    },
    {
      "cell_type": "markdown",
      "metadata": {
        "id": "2zGFzWYcJRwG"
      },
      "source": [
        "**Here, we need to use PCA algorithm to select the most significant attributes as independent features.**"
      ]
    },
    {
      "cell_type": "code",
      "metadata": {
        "id": "bYtaWuA1mXFw"
      },
      "source": [
        "#Fitting the PCA object\n",
        "pca = PCA();\n",
        "pca = pca.fit(X_train_original)"
      ],
      "execution_count": null,
      "outputs": []
    },
    {
      "cell_type": "code",
      "metadata": {
        "colab": {
          "base_uri": "https://localhost:8080/",
          "height": 278
        },
        "id": "Bt74wY0nF4M7",
        "outputId": "21cd4ecf-cfba-4105-ab5f-782735460edf"
      },
      "source": [
        "plt.plot(np.cumsum(pca.explained_variance_ratio_))\n",
        "plt.xlabel('No of components')\n",
        "plt.ylabel('Cumulative explained variance')\n",
        "plt.show()"
      ],
      "execution_count": null,
      "outputs": [
        {
          "output_type": "display_data",
          "data": {
            "image/png": "[encoded data removed]",
            "text/plain": [
              "<Figure size 432x288 with 1 Axes>"
            ]
          },
          "metadata": {
            "tags": [],
            "needs_background": "light"
          }
        }
      ]
    },
    {
      "cell_type": "markdown",
      "metadata": {
        "id": "lcfxS0iUBDug"
      },
      "source": [
        "**From the previous graph, and because we're testing using feature selection method, we can set our variance representation threshold to be 0.95. Hence we can use 5 PCA components.**"
      ]
    },
    {
      "cell_type": "code",
      "metadata": {
        "id": "3w-yMy20foRG"
      },
      "source": [
        "n_components = 5 #The number of priciple eigen vectors\n",
        "pca = PCA(n_components=n_components);\n",
        "pca = pca.fit(X_train_original)"
      ],
      "execution_count": null,
      "outputs": []
    },
    {
      "cell_type": "code",
      "metadata": {
        "id": "2u6birCEGrnJ"
      },
      "source": [
        "X_test_pca = pca.transform(X_test)\n",
        "X_train_pca= pca.transform(X_train_original)"
      ],
      "execution_count": null,
      "outputs": []
    },
    {
      "cell_type": "code",
      "metadata": {
        "colab": {
          "base_uri": "https://localhost:8080/"
        },
        "id": "FKac4nKYWYcC",
        "outputId": "a4ad419a-2ad6-4ae8-f49f-bb129b4b32ea"
      },
      "source": [
        "#Check the shapes again!!\n",
        "print(X_train_pca.shape,X_test_pca.shape)"
      ],
      "execution_count": null,
      "outputs": [
        {
          "output_type": "stream",
          "text": [
            "(271, 5) (31, 5)\n"
          ],
          "name": "stdout"
        }
      ]
    },
    {
      "cell_type": "markdown",
      "metadata": {
        "id": "jPNlrTl8n3Ou"
      },
      "source": [
        "***By now, we are ready to train and test our models using 5 parallel datasets; the one with the normal features and the one with the 9 PCA components.***"
      ]
    },
    {
      "cell_type": "markdown",
      "metadata": {
        "id": "PYmm_VNToEHJ"
      },
      "source": [
        "# **Models**"
      ]
    },
    {
      "cell_type": "markdown",
      "metadata": {
        "id": "JaQkMfzMoIOu"
      },
      "source": [
        "## ***1 - Logistic Regression***"
      ]
    },
    {
      "cell_type": "code",
      "metadata": {
        "colab": {
          "base_uri": "https://localhost:8080/"
        },
        "id": "WaUCCectoOqj",
        "outputId": "db654a80-ab01-4f17-c91d-3d703d1f298b"
      },
      "source": [
        "#Fit a logistic regression model with cross validation\n",
        "k_folds = 5;\n",
        "lg_cls = LogisticRegressionCV(max_iter = 1000, cv=k_folds, random_state=1)\n",
        "lg_cls.fit(X_train_original, y_train_original)"
      ],
      "execution_count": null,
      "outputs": [
        {
          "output_type": "execute_result",
          "data": {
            "text/plain": [
              "LogisticRegressionCV(Cs=10, class_weight=None, cv=5, dual=False,\n",
              "                     fit_intercept=True, intercept_scaling=1.0, l1_ratios=None,\n",
              "                     max_iter=1000, multi_class='auto', n_jobs=None,\n",
              "                     penalty='l2', random_state=1, refit=True, scoring=None,\n",
              "                     solver='lbfgs', tol=0.0001, verbose=0)"
            ]
          },
          "metadata": {
            "tags": []
          },
          "execution_count": 252
        }
      ]
    },
    {
      "cell_type": "code",
      "metadata": {
        "colab": {
          "base_uri": "https://localhost:8080/"
        },
        "id": "niG8N4Tlo8uy",
        "outputId": "9c9bff7f-4d6b-4ff4-e5c5-4831b23bf808"
      },
      "source": [
        "# Model Evaluation\n",
        "lg_outcome = lg_cls.predict(X_train_original)\n",
        "p_score = precision_score(y_train_original,lg_outcome)\n",
        "r_score = recall_score(y_train_original,lg_outcome)\n",
        "f1_sc = f1_score(y_train_original,lg_outcome)\n",
        "print('For the training data: ')\n",
        "print(p_score, r_score, f1_sc)"
      ],
      "execution_count": null,
      "outputs": [
        {
          "output_type": "stream",
          "text": [
            "For the training data: \n",
            "0.8106508875739645 0.9319727891156463 0.8670886075949368\n"
          ],
          "name": "stdout"
        }
      ]
    },
    {
      "cell_type": "markdown",
      "metadata": {
        "id": "PHlHLpZcjw1X"
      },
      "source": [
        "*Show the confusion matrix for the training set*"
      ]
    },
    {
      "cell_type": "code",
      "metadata": {
        "colab": {
          "base_uri": "https://localhost:8080/"
        },
        "id": "hWQ9mdjvjjlm",
        "outputId": "b758bd59-709b-4260-8eea-cd1f6277822c"
      },
      "source": [
        "confusion_matrix(y_train_original,lg_outcome)"
      ],
      "execution_count": null,
      "outputs": [
        {
          "output_type": "execute_result",
          "data": {
            "text/plain": [
              "array([[ 92,  32],\n",
              "       [ 10, 137]])"
            ]
          },
          "metadata": {
            "tags": []
          },
          "execution_count": 254
        }
      ]
    },
    {
      "cell_type": "code",
      "metadata": {
        "id": "SZwZB4fGpBQy"
      },
      "source": [
        "# A Function to plot the ROC curve\n",
        "def plot_roc_curve(false_positive_rate, true_positive_rate):\n",
        "    plt.plot(false_positive_rate, true_positive_rate, linewidth=6)\n",
        "    plt.axis([0, 1, 0, 1])\n",
        "    plt.xlabel('False Positive Rate (FPR)', fontsize=16)\n",
        "    plt.ylabel('True Positive Rate (TPR)', fontsize=16)"
      ],
      "execution_count": null,
      "outputs": []
    },
    {
      "cell_type": "code",
      "metadata": {
        "colab": {
          "base_uri": "https://localhost:8080/",
          "height": 503
        },
        "id": "f60eiF6SDVy7",
        "outputId": "705fdf06-074d-4be9-8b51-03b053257103"
      },
      "source": [
        "ax = plt.figure(figsize=(14, 7))\n",
        "plt.plot([0, 1], [0, 1], 'g', linewidth=4) #the random classifier\n",
        "\n",
        "# Get the predicted probabilities \n",
        "lg_cls_probs = lg_cls.predict_proba(X_train_original)[:,1]\n",
        "# Compute true positive rate and false positive rate\n",
        "false_positive_rate, true_positive_rate, thresholds = roc_curve(y_train_original, lg_cls_probs)\n",
        "plot_roc_curve(false_positive_rate, true_positive_rate)\n",
        "## Adding legend\n",
        "ax.legend(['random classifier','Log_Reg']);"
      ],
      "execution_count": null,
      "outputs": [
        {
          "output_type": "display_data",
          "data": {
            "image/png": "[encoded data removed]",
            "text/plain": [
              "<Figure size 1008x504 with 1 Axes>"
            ]
          },
          "metadata": {
            "tags": [],
            "needs_background": "light"
          }
        }
      ]
    },
    {
      "cell_type": "code",
      "metadata": {
        "colab": {
          "base_uri": "https://localhost:8080/"
        },
        "id": "ZTREQxJxFkMD",
        "outputId": "393f71f5-ca96-4e15-ca54-77133b4a3c9c"
      },
      "source": [
        "print(\"Thresholds: \", thresholds)\n",
        "print(\"True positive rate: \", true_positive_rate)\n",
        "print(\"False positive rate: \", false_positive_rate)"
      ],
      "execution_count": null,
      "outputs": [
        {
          "output_type": "stream",
          "text": [
            "Thresholds:  [1.97233075 0.97233075 0.88599662 0.88410969 0.8440359  0.84265227\n",
            " 0.81074186 0.80878709 0.79711683 0.79591118 0.79088128 0.78996425\n",
            " 0.78959586 0.78728452 0.74435207 0.74021014 0.73393458 0.73094571\n",
            " 0.72476012 0.72299809 0.70859451 0.7064863  0.67862241 0.67789597\n",
            " 0.66618794 0.66565657 0.6630733  0.65773915 0.65731945 0.65571833\n",
            " 0.65500662 0.65194973 0.64837043 0.64776331 0.64014413 0.63880326\n",
            " 0.63716636 0.61717927 0.61694971 0.61322507 0.60236423 0.60169296\n",
            " 0.60086362 0.59949227 0.59878631 0.58427081 0.57925896 0.57909862\n",
            " 0.57012413 0.56209284 0.53151864 0.52850831 0.52072221 0.46999503\n",
            " 0.46228386 0.35938652 0.35810958 0.32766793 0.29333964 0.26639693\n",
            " 0.26524227 0.22726822 0.22255811 0.20539519 0.20182767 0.1915755\n",
            " 0.18064459 0.14783838 0.14617193 0.01547904]\n",
            "True positive rate:  [0.         0.00680272 0.17006803 0.17006803 0.27210884 0.27210884\n",
            " 0.38095238 0.38095238 0.43537415 0.43537415 0.44897959 0.44897959\n",
            " 0.45578231 0.45578231 0.55782313 0.55782313 0.57823129 0.57823129\n",
            " 0.60544218 0.60544218 0.63945578 0.63945578 0.70068027 0.70068027\n",
            " 0.72108844 0.72108844 0.72789116 0.72789116 0.73469388 0.73469388\n",
            " 0.7414966  0.7414966  0.76190476 0.76190476 0.7755102  0.7755102\n",
            " 0.78231293 0.78231293 0.78911565 0.78911565 0.80272109 0.80272109\n",
            " 0.80952381 0.80952381 0.81632653 0.81632653 0.83673469 0.83673469\n",
            " 0.8707483  0.8707483  0.91156463 0.91156463 0.93197279 0.93197279\n",
            " 0.93877551 0.93877551 0.94557823 0.94557823 0.95918367 0.95918367\n",
            " 0.96598639 0.96598639 0.97959184 0.97959184 0.98639456 0.98639456\n",
            " 0.99319728 0.99319728 1.         1.        ]\n",
            "False positive rate:  [0.         0.         0.         0.00806452 0.00806452 0.01612903\n",
            " 0.01612903 0.02419355 0.02419355 0.03225806 0.03225806 0.04032258\n",
            " 0.04032258 0.0483871  0.0483871  0.06451613 0.06451613 0.07258065\n",
            " 0.07258065 0.08064516 0.08064516 0.08870968 0.08870968 0.09677419\n",
            " 0.09677419 0.10483871 0.10483871 0.11290323 0.11290323 0.12096774\n",
            " 0.12096774 0.12903226 0.12903226 0.13709677 0.13709677 0.14516129\n",
            " 0.14516129 0.16935484 0.16935484 0.17741935 0.17741935 0.18548387\n",
            " 0.18548387 0.19354839 0.19354839 0.22580645 0.22580645 0.23387097\n",
            " 0.23387097 0.24193548 0.24193548 0.25806452 0.25806452 0.2983871\n",
            " 0.2983871  0.41129032 0.41129032 0.44354839 0.44354839 0.46774194\n",
            " 0.46774194 0.52419355 0.52419355 0.56451613 0.56451613 0.58870968\n",
            " 0.58870968 0.68548387 0.68548387 1.        ]\n"
          ],
          "name": "stdout"
        }
      ]
    },
    {
      "cell_type": "markdown",
      "metadata": {
        "id": "aSo87a4vFSsO"
      },
      "source": [
        "**As we need the true positive rate to be as high as possible, we can set the threshold to be 0.531, hence we get TPR of 0.911 and FPR of 0.24 and this would be our tolerance which we can test on the test set.**"
      ]
    },
    {
      "cell_type": "markdown",
      "metadata": {
        "id": "TRkuYgtHImX9"
      },
      "source": [
        "*We would now create a new function to get the output according to our threshold.*"
      ]
    },
    {
      "cell_type": "code",
      "metadata": {
        "id": "uMMe4014IzLI"
      },
      "source": [
        "def predict_with_threshold(threshold,x_input,classifier):\n",
        "  cls_probs = classifier.predict_proba(x_input)[:,1]\n",
        "  predictions = []\n",
        "  for i in range(len(cls_probs)):\n",
        "    if cls_probs[i]>threshold:\n",
        "      predictions.append(1)\n",
        "    else:\n",
        "      predictions.append(0)\n",
        "  return predictions"
      ],
      "execution_count": null,
      "outputs": []
    },
    {
      "cell_type": "markdown",
      "metadata": {
        "id": "-jgnyjakKDgA"
      },
      "source": [
        "**Hence, the new customized predictions are:**"
      ]
    },
    {
      "cell_type": "code",
      "metadata": {
        "id": "2MSohcPuJx2F"
      },
      "source": [
        "threshold = 0.531\n",
        "outcome_test = predict_with_threshold(threshold,X_test,lg_cls)"
      ],
      "execution_count": null,
      "outputs": []
    },
    {
      "cell_type": "markdown",
      "metadata": {
        "id": "MvfdAYsukJlh"
      },
      "source": [
        "*Show the confusion matrix for the test*"
      ]
    },
    {
      "cell_type": "code",
      "metadata": {
        "colab": {
          "base_uri": "https://localhost:8080/"
        },
        "id": "_045RrThkOrO",
        "outputId": "c52323db-bae4-4563-f7dc-88ea57ad847b"
      },
      "source": [
        "confusion_matrix(y_test,outcome_test)"
      ],
      "execution_count": null,
      "outputs": [
        {
          "output_type": "execute_result",
          "data": {
            "text/plain": [
              "array([[13,  1],\n",
              "       [ 1, 16]])"
            ]
          },
          "metadata": {
            "tags": []
          },
          "execution_count": 260
        }
      ]
    },
    {
      "cell_type": "markdown",
      "metadata": {
        "id": "CJp5u-0-kSjK"
      },
      "source": [
        "*Calculate the recall and precision score*"
      ]
    },
    {
      "cell_type": "code",
      "metadata": {
        "colab": {
          "base_uri": "https://localhost:8080/"
        },
        "id": "wzBYq4H7kWrv",
        "outputId": "c13efbe8-ff0d-4b86-e2f0-05bdde035beb"
      },
      "source": [
        "p_score = precision_score(y_test,outcome_test)\n",
        "r_score = recall_score(y_test,outcome_test)\n",
        "f1_sc =  f1_score(y_test,outcome_test)\n",
        "print(p_score, r_score, f1_sc)"
      ],
      "execution_count": null,
      "outputs": [
        {
          "output_type": "stream",
          "text": [
            "0.9411764705882353 0.9411764705882353 0.9411764705882353\n"
          ],
          "name": "stdout"
        }
      ]
    },
    {
      "cell_type": "markdown",
      "metadata": {
        "id": "yjcdKIEuK2qw"
      },
      "source": [
        "We got the recall score = 0.941; however, the percision score is also 0.94. The perfect recall metric can be obtained due to the few number of samples"
      ]
    },
    {
      "cell_type": "markdown",
      "metadata": {
        "id": "KrN0KEZQP2t-"
      },
      "source": [
        "***Next, we try the same procedure for the PCA output..***"
      ]
    },
    {
      "cell_type": "code",
      "metadata": {
        "colab": {
          "base_uri": "https://localhost:8080/",
          "height": 503
        },
        "id": "_5-dUGEYP9qf",
        "outputId": "acee3e7e-d492-460b-ec53-113c5bb17ffb"
      },
      "source": [
        "#Fit a logistic regression model\n",
        "lg_cls_pca = LogisticRegressionCV(max_iter = 1000, cv=k_folds, random_state=1)\n",
        "lg_cls_pca.fit(X_train_pca,y_train_original)\n",
        "\n",
        "# Plot the ROC curve\n",
        "ax = plt.figure(figsize=(14, 7))\n",
        "plt.plot([0, 1], [0, 1], 'g', linewidth=4) #the random classifier\n",
        "\n",
        "# Get the predicted probabilities \n",
        "lg_cls_probs = lg_cls_pca.predict_proba(X_train_pca)[:,1] #to get the probabilities of 1 (Positive)\n",
        "# Compute true positive rate and false positive rate\n",
        "false_positive_rate, true_positive_rate, thresholds = roc_curve(y_train_original, lg_cls_probs)\n",
        "plot_roc_curve(false_positive_rate, true_positive_rate)\n",
        "## Adding legend\n",
        "ax.legend(['random classifier','Log_Reg']);"
      ],
      "execution_count": null,
      "outputs": [
        {
          "output_type": "display_data",
          "data": {
            "image/png": "[encoded data removed]",
            "text/plain": [
              "<Figure size 1008x504 with 1 Axes>"
            ]
          },
          "metadata": {
            "tags": [],
            "needs_background": "light"
          }
        }
      ]
    },
    {
      "cell_type": "code",
      "metadata": {
        "colab": {
          "base_uri": "https://localhost:8080/"
        },
        "id": "1cADDzXDXJKh",
        "outputId": "d6801749-64c2-4b1d-ee20-e0505b56b0e2"
      },
      "source": [
        "print(\"Thresholds: \", thresholds)\n",
        "print(\"True positive rate: \", true_positive_rate)\n",
        "print(\"False positive rate: \", false_positive_rate)"
      ],
      "execution_count": null,
      "outputs": [
        {
          "output_type": "stream",
          "text": [
            "Thresholds:  [1.97505004e+00 9.75050037e-01 9.28640635e-01 9.27985509e-01\n",
            " 9.12505178e-01 9.10354797e-01 8.70866670e-01 8.69886975e-01\n",
            " 8.65312842e-01 8.63238277e-01 8.39771158e-01 8.39563818e-01\n",
            " 8.34252900e-01 8.32173982e-01 8.31133831e-01 8.27444022e-01\n",
            " 8.17298872e-01 8.12775148e-01 7.90162775e-01 7.90048438e-01\n",
            " 7.82129361e-01 7.77488763e-01 7.58099544e-01 7.55715444e-01\n",
            " 7.50745159e-01 7.44272765e-01 7.42760909e-01 7.38160678e-01\n",
            " 7.28986677e-01 7.21489549e-01 7.15802647e-01 7.13798625e-01\n",
            " 7.02817318e-01 7.02410543e-01 6.93380308e-01 6.88239146e-01\n",
            " 6.85773120e-01 6.82106228e-01 6.69992511e-01 6.63795143e-01\n",
            " 6.58606462e-01 6.50623519e-01 6.46390963e-01 6.40454081e-01\n",
            " 6.24009278e-01 6.23450543e-01 6.18005260e-01 6.04977287e-01\n",
            " 5.87727079e-01 5.86103481e-01 5.71477988e-01 5.67970647e-01\n",
            " 5.22878607e-01 4.84309903e-01 4.82052338e-01 4.60700819e-01\n",
            " 4.44612843e-01 4.42100653e-01 4.10146163e-01 3.88081698e-01\n",
            " 3.79923671e-01 3.07325237e-01 3.00880313e-01 2.36814410e-01\n",
            " 2.35345986e-01 2.17450204e-01 2.10427541e-01 2.05325723e-01\n",
            " 1.82413139e-01 1.34677648e-01 1.23314018e-01 6.76950785e-02\n",
            " 6.66397026e-02 3.85751344e-02 3.77594290e-02 3.63629850e-04]\n",
            "True positive rate:  [0.         0.00680272 0.1292517  0.1292517  0.14965986 0.14965986\n",
            " 0.31972789 0.31972789 0.34693878 0.34693878 0.44217687 0.44217687\n",
            " 0.45578231 0.45578231 0.46258503 0.46258503 0.47619048 0.47619048\n",
            " 0.53741497 0.53741497 0.55782313 0.55782313 0.58503401 0.58503401\n",
            " 0.59183673 0.59183673 0.60544218 0.60544218 0.6122449  0.6122449\n",
            " 0.62585034 0.62585034 0.66666667 0.66666667 0.68027211 0.68027211\n",
            " 0.68707483 0.68707483 0.70748299 0.70748299 0.72108844 0.72108844\n",
            " 0.7414966  0.7414966  0.75510204 0.75510204 0.76870748 0.76870748\n",
            " 0.79591837 0.79591837 0.81632653 0.81632653 0.88435374 0.88435374\n",
            " 0.89115646 0.89115646 0.91836735 0.91836735 0.92517007 0.92517007\n",
            " 0.93877551 0.93877551 0.94557823 0.94557823 0.95238095 0.95238095\n",
            " 0.95918367 0.95918367 0.97278912 0.97278912 0.98639456 0.98639456\n",
            " 0.99319728 0.99319728 1.         1.        ]\n",
            "False positive rate:  [0.         0.         0.         0.00806452 0.00806452 0.01612903\n",
            " 0.01612903 0.02419355 0.02419355 0.03225806 0.03225806 0.04032258\n",
            " 0.04032258 0.0483871  0.0483871  0.06451613 0.06451613 0.07258065\n",
            " 0.07258065 0.08064516 0.08064516 0.09677419 0.09677419 0.10483871\n",
            " 0.10483871 0.12096774 0.12096774 0.12903226 0.12903226 0.13709677\n",
            " 0.13709677 0.14516129 0.14516129 0.15322581 0.15322581 0.17741935\n",
            " 0.17741935 0.18548387 0.18548387 0.19354839 0.19354839 0.22580645\n",
            " 0.22580645 0.23387097 0.23387097 0.24193548 0.24193548 0.25806452\n",
            " 0.25806452 0.26612903 0.26612903 0.27419355 0.27419355 0.29032258\n",
            " 0.29032258 0.30645161 0.30645161 0.31451613 0.31451613 0.33064516\n",
            " 0.33064516 0.40322581 0.40322581 0.47580645 0.47580645 0.5\n",
            " 0.5        0.53225806 0.53225806 0.60483871 0.60483871 0.70967742\n",
            " 0.70967742 0.83064516 0.83064516 1.        ]\n"
          ],
          "name": "stdout"
        }
      ]
    },
    {
      "cell_type": "markdown",
      "metadata": {
        "id": "9fuNUhfmXNPa"
      },
      "source": [
        "**Here, a threshold of 0.37 can be chosen from the previous results**"
      ]
    },
    {
      "cell_type": "code",
      "metadata": {
        "colab": {
          "base_uri": "https://localhost:8080/"
        },
        "id": "QQVkyKcI2sFN",
        "outputId": "0c251b63-790f-405b-b79c-a418e1fe7676"
      },
      "source": [
        "# For the training set\n",
        "threshold = 0.37\n",
        "outcome_train = predict_with_threshold(threshold,X_train_pca,lg_cls_pca)\n",
        "p_score = precision_score(y_train_original,outcome_train)\n",
        "r_score = recall_score(y_train_original,outcome_train)\n",
        "f1_sc =  f1_score(y_train_original,outcome_train)\n",
        "print(p_score, r_score, f1_sc)"
      ],
      "execution_count": null,
      "outputs": [
        {
          "output_type": "stream",
          "text": [
            "0.7666666666666667 0.9387755102040817 0.8440366972477065\n"
          ],
          "name": "stdout"
        }
      ]
    },
    {
      "cell_type": "code",
      "metadata": {
        "colab": {
          "base_uri": "https://localhost:8080/"
        },
        "id": "I5QomOl7XZ0n",
        "outputId": "a3ce3b3e-598e-4f51-c958-a529aca7182b"
      },
      "source": [
        "#For the test set\n",
        "threshold = 0.37\n",
        "outcome_test = predict_with_threshold(threshold,X_test_pca,lg_cls_pca)\n",
        "p_score = precision_score(y_test,outcome_test)\n",
        "r_score = recall_score(y_test,outcome_test)\n",
        "f1_sc =  f1_score(y_test,outcome_test)\n",
        "print(p_score, r_score, f1_sc)"
      ],
      "execution_count": null,
      "outputs": [
        {
          "output_type": "stream",
          "text": [
            "0.85 1.0 0.9189189189189189\n"
          ],
          "name": "stdout"
        }
      ]
    },
    {
      "cell_type": "markdown",
      "metadata": {
        "id": "ISQBS48qXra7"
      },
      "source": [
        "***The situation here is suspicious of possible overfitting due to the few data samples. However, the results show no very superior behaviour for PCA over the oringial features as expected. It's believed that happened due to the few number of samples.***"
      ]
    },
    {
      "cell_type": "markdown",
      "metadata": {
        "id": "SFOQJpsk1SpU"
      },
      "source": [
        "Finding if the results are biased in terms of the female/male distribution"
      ]
    },
    {
      "cell_type": "code",
      "metadata": {
        "colab": {
          "base_uri": "https://localhost:8080/"
        },
        "id": "8xdZgY8a0R44",
        "outputId": "5c6d1c86-01ba-4ec0-ea77-3a42eff1dfd6"
      },
      "source": [
        "X_train_sex= pd.DataFrame(X_train_original['sex'])\n",
        "X_train_sex['target']=y_train_original\n",
        "X_train_sex[\"error\"] = y_train_original - outcome_train\n",
        "errors_False_negative = X_train_sex.loc[X_train_sex['error']==1 ]\n",
        "errors_False_positive= X_train_sex.loc[X_train_sex['error']==-1 ]\n",
        "positives = X_train_sex.loc[X_train_sex['target']==1 ]\n",
        "negatives = X_train_sex.loc[X_train_sex['target']==0 ]\n",
        "print(\"No. of females is {}\".format(X_train_sex.loc[X_train_sex['sex']==0 ].count() ))\n",
        "print(\"No. of males is {}\".format(X_train_sex.loc[X_train_sex['sex']==1 ].count() ))\n",
        "print('female_male distribution of positives')\n",
        "print(positives['sex'].value_counts())\n",
        "print('female_male distribution of negatives')\n",
        "print(negatives['sex'].value_counts())\n",
        "print('female_male distribution of false negatives')\n",
        "print(errors_False_negative['sex'].value_counts())\n",
        "print('female_male distribution of false positives')\n",
        "print(errors_False_positive['sex'].value_counts())"
      ],
      "execution_count": null,
      "outputs": [
        {
          "output_type": "stream",
          "text": [
            "No. of females is sex       88\n",
            "target    88\n",
            "error     88\n",
            "dtype: int64\n",
            "No. of males is sex       183\n",
            "target    183\n",
            "error     183\n",
            "dtype: int64\n",
            "female_male distribution of positives\n",
            "1    82\n",
            "0    65\n",
            "Name: sex, dtype: int64\n",
            "female_male distribution of negatives\n",
            "1    101\n",
            "0     23\n",
            "Name: sex, dtype: int64\n",
            "female_male distribution of false negatives\n",
            "1    7\n",
            "0    2\n",
            "Name: sex, dtype: int64\n",
            "female_male distribution of false positives\n",
            "1    34\n",
            "0     8\n",
            "Name: sex, dtype: int64\n"
          ],
          "name": "stdout"
        }
      ]
    },
    {
      "cell_type": "code",
      "metadata": {
        "colab": {
          "base_uri": "https://localhost:8080/",
          "height": 137
        },
        "id": "v63_j9Pv2b_l",
        "outputId": "e9613aac-f4aa-4b6b-9e44-370c641ea896"
      },
      "source": [
        "X_test_sex= pd.DataFrame(X_test['sex'])\n",
        "X_test_sex[\"error\"] = abs(y_test - outcome_test)\n",
        "errors = X_test_sex.loc[X_test_sex['error']==1 ]\n",
        "errors\n"
      ],
      "execution_count": null,
      "outputs": [
        {
          "output_type": "execute_result",
          "data": {
            "text/html": [
              "<div>\n",
              "<style scoped>\n",
              "    .dataframe tbody tr th:only-of-type {\n",
              "        vertical-align: middle;\n",
              "    }\n",
              "\n",
              "    .dataframe tbody tr th {\n",
              "        vertical-align: top;\n",
              "    }\n",
              "\n",
              "    .dataframe thead th {\n",
              "        text-align: right;\n",
              "    }\n",
              "</style>\n",
              "<table border=\"1\" class=\"dataframe\">\n",
              "  <thead>\n",
              "    <tr style=\"text-align: right;\">\n",
              "      <th></th>\n",
              "      <th>sex</th>\n",
              "      <th>error</th>\n",
              "    </tr>\n",
              "  </thead>\n",
              "  <tbody>\n",
              "    <tr>\n",
              "      <th>170</th>\n",
              "      <td>1</td>\n",
              "      <td>1</td>\n",
              "    </tr>\n",
              "    <tr>\n",
              "      <th>205</th>\n",
              "      <td>1</td>\n",
              "      <td>1</td>\n",
              "    </tr>\n",
              "    <tr>\n",
              "      <th>238</th>\n",
              "      <td>1</td>\n",
              "      <td>1</td>\n",
              "    </tr>\n",
              "  </tbody>\n",
              "</table>\n",
              "</div>"
            ],
            "text/plain": [
              "     sex  error\n",
              "170    1      1\n",
              "205    1      1\n",
              "238    1      1"
            ]
          },
          "metadata": {
            "tags": []
          },
          "execution_count": 267
        }
      ]
    },
    {
      "cell_type": "markdown",
      "metadata": {
        "id": "14_k-lVJoUaw"
      },
      "source": [
        "## ***2-KNN***"
      ]
    },
    {
      "cell_type": "markdown",
      "metadata": {
        "id": "s-ujQUFRmDVF"
      },
      "source": [
        "### KNN Using the results obtained from the PCA"
      ]
    },
    {
      "cell_type": "code",
      "metadata": {
        "colab": {
          "base_uri": "https://localhost:8080/"
        },
        "id": "696urre4nd4N",
        "outputId": "6ae774c3-45d8-4b1c-d04e-7ed26373fafe"
      },
      "source": [
        "K = 3\n",
        "\n",
        "knn= KNeighborsClassifier(K)\n",
        "knn.fit(X_train_pca, y_train_original)"
      ],
      "execution_count": null,
      "outputs": [
        {
          "output_type": "execute_result",
          "data": {
            "text/plain": [
              "KNeighborsClassifier(algorithm='auto', leaf_size=30, metric='minkowski',\n",
              "                     metric_params=None, n_jobs=None, n_neighbors=3, p=2,\n",
              "                     weights='uniform')"
            ]
          },
          "metadata": {
            "tags": []
          },
          "execution_count": 268
        }
      ]
    },
    {
      "cell_type": "code",
      "metadata": {
        "colab": {
          "base_uri": "https://localhost:8080/"
        },
        "id": "5sO51_6PLX5o",
        "outputId": "07d3d57f-bb27-4788-8afc-cdccc7e43e47"
      },
      "source": [
        "y_pred = knn.predict(X_train_pca)\n",
        "print('The scores of KNN with K = {} on train data using PCA is\\n'.format(K))\n",
        "\n",
        "print(f'f1 score = {f1_score(y_train_original, y_pred)}')\n",
        "print(f'precision = {precision_score(y_train_original, y_pred)}')\n",
        "print(f'recall = {recall_score(y_train_original, y_pred)}')\n"
      ],
      "execution_count": null,
      "outputs": [
        {
          "output_type": "stream",
          "text": [
            "The scores of KNN with K = 3 on train data using PCA is\n",
            "\n",
            "f1 score = 0.7551020408163265\n",
            "precision = 0.7551020408163265\n",
            "recall = 0.7551020408163265\n"
          ],
          "name": "stdout"
        }
      ]
    },
    {
      "cell_type": "code",
      "metadata": {
        "colab": {
          "base_uri": "https://localhost:8080/"
        },
        "id": "2dOR__xjLX55",
        "outputId": "4659aa53-a8f7-4734-96d3-eb876b0d5ce1"
      },
      "source": [
        "y_pred = knn.predict(X_test_pca)\n",
        "print('The scores of KNN with K = {} on test data using PCA is\\n'.format(K))\n",
        "\n",
        "print(f'f1 score = {f1_score(y_test, y_pred)}')\n",
        "print(f'precision = {precision_score(y_test, y_pred)}')\n",
        "print(f'recall = {recall_score(y_test, y_pred)}')\n"
      ],
      "execution_count": null,
      "outputs": [
        {
          "output_type": "stream",
          "text": [
            "The scores of KNN with K = 3 on test data using PCA is\n",
            "\n",
            "f1 score = 0.787878787878788\n",
            "precision = 0.8125\n",
            "recall = 0.7647058823529411\n"
          ],
          "name": "stdout"
        }
      ]
    },
    {
      "cell_type": "code",
      "metadata": {
        "colab": {
          "base_uri": "https://localhost:8080/"
        },
        "id": "O3wEGOwUMB5S",
        "outputId": "b1722ef8-43bd-4a21-be86-e3b8d3216375"
      },
      "source": [
        "confusion_matrix(y_test, y_pred)"
      ],
      "execution_count": null,
      "outputs": [
        {
          "output_type": "execute_result",
          "data": {
            "text/plain": [
              "array([[11,  3],\n",
              "       [ 4, 13]])"
            ]
          },
          "metadata": {
            "tags": []
          },
          "execution_count": 271
        }
      ]
    },
    {
      "cell_type": "markdown",
      "metadata": {
        "id": "u1aDzfTdnSc-"
      },
      "source": [
        "### Hyper parameter tuning using grid search with cross validation"
      ]
    },
    {
      "cell_type": "code",
      "metadata": {
        "colab": {
          "base_uri": "https://localhost:8080/"
        },
        "id": "tOgCANkgXp6_",
        "outputId": "c882c9ce-addc-4202-f1a6-7f6a8e4bfdb1"
      },
      "source": [
        "# Grid Search\n",
        "\n",
        "# Set the parameters by cross-validation\n",
        "tuned_parameters = [{'n_neighbors':list(range(3,30,2)),\n",
        "                     'weights':['distance','uniform'],\n",
        "                     'algorithm':['auto','kd_tree','ball_tree'],\n",
        "                     'p':[1,2]}]\n",
        "\n",
        "scores = 'f1'\n",
        "knn = KNeighborsClassifier()\n",
        "\n",
        "\n",
        "print(\"# Tuning hyper-parameters for %s\" % score)\n",
        "print()\n",
        "\n",
        "clf = GridSearchCV(knn, tuned_parameters, scoring=score, cv=5)\n",
        "\n",
        "clf.fit(X_train_pca, y_train_original)\n",
        "\n",
        "print(\"The best hyper-parameters found using Grid Search:\")\n",
        "print()\n",
        "print(clf.best_params_)\n",
        "print()\n",
        "\n",
        "print(\"Detailed classification report:\")\n",
        "print()\n",
        "print(\"The model is trained on the full development set.\")\n",
        "print(\"The scores are computed on the full evaluation set.\")\n",
        "print()\n",
        "y_true, y_pred = y_test, clf.predict(X_test_pca)\n",
        "print(classification_report(y_true, y_pred))\n",
        "print('-----------------------------------------------------')"
      ],
      "execution_count": null,
      "outputs": [
        {
          "output_type": "stream",
          "text": [
            "# Tuning hyper-parameters for recall\n",
            "\n",
            "The best hyper-parameters found using Grid Search:\n",
            "\n",
            "{'algorithm': 'auto', 'n_neighbors': 25, 'p': 1, 'weights': 'uniform'}\n",
            "\n",
            "Detailed classification report:\n",
            "\n",
            "The model is trained on the full development set.\n",
            "The scores are computed on the full evaluation set.\n",
            "\n",
            "              precision    recall  f1-score   support\n",
            "\n",
            "           0       0.92      0.86      0.89        14\n",
            "           1       0.89      0.94      0.91        17\n",
            "\n",
            "    accuracy                           0.90        31\n",
            "   macro avg       0.91      0.90      0.90        31\n",
            "weighted avg       0.90      0.90      0.90        31\n",
            "\n",
            "-----------------------------------------------------\n"
          ],
          "name": "stdout"
        }
      ]
    },
    {
      "cell_type": "code",
      "metadata": {
        "colab": {
          "base_uri": "https://localhost:8080/"
        },
        "id": "7Tqpe280DL_X",
        "outputId": "74282fea-cceb-4aac-9276-9dc5ff7437f9"
      },
      "source": [
        "print(clf.best_estimator_)"
      ],
      "execution_count": null,
      "outputs": [
        {
          "output_type": "stream",
          "text": [
            "KNeighborsClassifier(algorithm='auto', leaf_size=30, metric='minkowski',\n",
            "                     metric_params=None, n_jobs=None, n_neighbors=25, p=1,\n",
            "                     weights='uniform')\n"
          ],
          "name": "stdout"
        }
      ]
    },
    {
      "cell_type": "code",
      "metadata": {
        "colab": {
          "base_uri": "https://localhost:8080/"
        },
        "id": "ktanbTS1F461",
        "outputId": "4acd11f0-eb5c-4ba1-f064-5b7206fdfc6c"
      },
      "source": [
        "knn= clf.best_estimator_\n",
        "knn.fit(X_train_pca, y_train_original)"
      ],
      "execution_count": null,
      "outputs": [
        {
          "output_type": "execute_result",
          "data": {
            "text/plain": [
              "KNeighborsClassifier(algorithm='auto', leaf_size=30, metric='minkowski',\n",
              "                     metric_params=None, n_jobs=None, n_neighbors=25, p=1,\n",
              "                     weights='uniform')"
            ]
          },
          "metadata": {
            "tags": []
          },
          "execution_count": 274
        }
      ]
    },
    {
      "cell_type": "code",
      "metadata": {
        "colab": {
          "base_uri": "https://localhost:8080/"
        },
        "id": "ssVmb5ScF47E",
        "outputId": "f5aa350a-f761-461f-e842-0962176157f3"
      },
      "source": [
        "y_pred = knn.predict(X_train_pca)\n",
        "print('The scores of KNN using best parameters obtained by grid search on train data is\\n')\n",
        "\n",
        "print(f'f1 score = {f1_score(y_train_original, y_pred)}')\n",
        "print(f'precision = {precision_score(y_train_original, y_pred)}')\n",
        "print(f'recall = {recall_score(y_train_original, y_pred)}')\n"
      ],
      "execution_count": null,
      "outputs": [
        {
          "output_type": "stream",
          "text": [
            "The scores of KNN using best parameters obtained by grid search on train data is\n",
            "\n",
            "f1 score = 0.7215189873417722\n",
            "precision = 0.6745562130177515\n",
            "recall = 0.7755102040816326\n"
          ],
          "name": "stdout"
        }
      ]
    },
    {
      "cell_type": "code",
      "metadata": {
        "colab": {
          "base_uri": "https://localhost:8080/"
        },
        "id": "CYCNSnSzED3k",
        "outputId": "14227116-e517-4626-cf33-8de95350b8fb"
      },
      "source": [
        "y_pred = knn.predict(X_test_pca)\n",
        "print('The scores of KNN using best parameters obtained by grid search on test data is\\n')\n",
        "\n",
        "print(f'f1 score = {f1_score(y_test, y_pred)}')\n",
        "print(f'precision = {precision_score(y_test, y_pred)}')\n",
        "print(f'recall = {recall_score(y_test, y_pred)}')\n"
      ],
      "execution_count": null,
      "outputs": [
        {
          "output_type": "stream",
          "text": [
            "The scores of KNN using best parameters obtained by grid search on test data is\n",
            "\n",
            "f1 score = 0.9142857142857143\n",
            "precision = 0.8888888888888888\n",
            "recall = 0.9411764705882353\n"
          ],
          "name": "stdout"
        }
      ]
    },
    {
      "cell_type": "markdown",
      "metadata": {
        "id": "HYVO6QXgb0nz"
      },
      "source": [
        "## **3- Random Forest**"
      ]
    },
    {
      "cell_type": "code",
      "metadata": {
        "id": "_O-vhe4AmAIc"
      },
      "source": [
        "#Setting the parameters\n",
        "max_features = X_train_pca.shape[1]\n",
        "max_depth = range(5,max_features+1)\n",
        "n_estimators = range(10,201,10)\n",
        "k_fold = [(slice(None), slice(None))] #to stop using cross validation"
      ],
      "execution_count": null,
      "outputs": []
    },
    {
      "cell_type": "code",
      "metadata": {
        "colab": {
          "base_uri": "https://localhost:8080/"
        },
        "id": "pDNyqdhqLd_n",
        "outputId": "dc74f631-cf98-4b03-95d9-351f162a4109"
      },
      "source": [
        "# Create the parameter grid based on the results of random search \n",
        "param_grid = {\n",
        "    'random_state': [1],\n",
        "    'bootstrap': [True],\n",
        "    'max_depth': max_depth,\n",
        "    'max_features': [max_features], #Hence using all the features\n",
        "    'n_estimators': n_estimators\n",
        "}\n",
        "# Define the base model\n",
        "rf_clf = RandomForestClassifier()\n",
        "# Create the GridSearch with cross validation \n",
        "rf_grid_search = GridSearchCV(estimator = rf_clf, param_grid = param_grid, cv = k_fold, n_jobs = -1, verbose = 2)\n",
        "#Fit on the PCA data\n",
        "rf_grid_search.fit(X_train_pca,y_train_original)"
      ],
      "execution_count": null,
      "outputs": [
        {
          "output_type": "stream",
          "text": [
            "Fitting 1 folds for each of 20 candidates, totalling 20 fits\n"
          ],
          "name": "stdout"
        },
        {
          "output_type": "stream",
          "text": [
            "[Parallel(n_jobs=-1)]: Using backend LokyBackend with 2 concurrent workers.\n",
            "[Parallel(n_jobs=-1)]: Done  20 out of  20 | elapsed:    4.4s finished\n"
          ],
          "name": "stderr"
        },
        {
          "output_type": "execute_result",
          "data": {
            "text/plain": [
              "GridSearchCV(cv=[(slice(None, None, None), slice(None, None, None))],\n",
              "             error_score=nan,\n",
              "             estimator=RandomForestClassifier(bootstrap=True, ccp_alpha=0.0,\n",
              "                                              class_weight=None,\n",
              "                                              criterion='gini', max_depth=None,\n",
              "                                              max_features='auto',\n",
              "                                              max_leaf_nodes=None,\n",
              "                                              max_samples=None,\n",
              "                                              min_impurity_decrease=0.0,\n",
              "                                              min_impurity_split=None,\n",
              "                                              min_samples_leaf=1,\n",
              "                                              min_samples_split=2,\n",
              "                                              min_weight_fraction_leaf=0.0,\n",
              "                                              n_estimators=100, n_jobs=None,\n",
              "                                              oob_score=False,\n",
              "                                              random_state=None, verbose=0,\n",
              "                                              warm_start=False),\n",
              "             iid='deprecated', n_jobs=-1,\n",
              "             param_grid={'bootstrap': [True], 'max_depth': range(5, 6),\n",
              "                         'max_features': [5],\n",
              "                         'n_estimators': range(10, 201, 10),\n",
              "                         'random_state': [1]},\n",
              "             pre_dispatch='2*n_jobs', refit=True, return_train_score=False,\n",
              "             scoring=None, verbose=2)"
            ]
          },
          "metadata": {
            "tags": []
          },
          "execution_count": 278
        }
      ]
    },
    {
      "cell_type": "code",
      "metadata": {
        "colab": {
          "base_uri": "https://localhost:8080/"
        },
        "id": "QaFFsbVEVZWM",
        "outputId": "507b4ca0-1123-4c4a-d79e-8c1fafb76a1d"
      },
      "source": [
        "#Discovering the best parameters for random forest classifier\n",
        "rf_grid_search.best_params_"
      ],
      "execution_count": null,
      "outputs": [
        {
          "output_type": "execute_result",
          "data": {
            "text/plain": [
              "{'bootstrap': True,\n",
              " 'max_depth': 5,\n",
              " 'max_features': 5,\n",
              " 'n_estimators': 60,\n",
              " 'random_state': 1}"
            ]
          },
          "metadata": {
            "tags": []
          },
          "execution_count": 279
        }
      ]
    },
    {
      "cell_type": "code",
      "metadata": {
        "colab": {
          "base_uri": "https://localhost:8080/"
        },
        "id": "vKCHdGs0Xc9k",
        "outputId": "f8734733-14a3-47e7-bfd9-ec04faebc3c1"
      },
      "source": [
        "rf_grid_search.best_score_"
      ],
      "execution_count": null,
      "outputs": [
        {
          "output_type": "execute_result",
          "data": {
            "text/plain": [
              "0.9188191881918819"
            ]
          },
          "metadata": {
            "tags": []
          },
          "execution_count": 280
        }
      ]
    },
    {
      "cell_type": "markdown",
      "metadata": {
        "id": "qzKC4qfUpXK0"
      },
      "source": [
        "*Evaluate on the training set*"
      ]
    },
    {
      "cell_type": "code",
      "metadata": {
        "id": "R65IBus5pUf8"
      },
      "source": [
        "rf_cls = rf_grid_search.best_estimator_\n",
        "y_predicted = rf_cls.predict(X_train_pca)"
      ],
      "execution_count": null,
      "outputs": []
    },
    {
      "cell_type": "markdown",
      "metadata": {
        "id": "8JRuEARipNLL"
      },
      "source": [
        "*Show the confusion matrix for the training set*"
      ]
    },
    {
      "cell_type": "code",
      "metadata": {
        "colab": {
          "base_uri": "https://localhost:8080/"
        },
        "id": "hxQPyCQ9pNLM",
        "outputId": "acbb126f-9d6f-4c49-cc8e-33be5f8b0a9a"
      },
      "source": [
        "confusion_matrix(y_train_original,y_predicted)"
      ],
      "execution_count": null,
      "outputs": [
        {
          "output_type": "execute_result",
          "data": {
            "text/plain": [
              "array([[106,  18],\n",
              "       [  4, 143]])"
            ]
          },
          "metadata": {
            "tags": []
          },
          "execution_count": 282
        }
      ]
    },
    {
      "cell_type": "code",
      "metadata": {
        "colab": {
          "base_uri": "https://localhost:8080/"
        },
        "id": "LITaaDR7jM5M",
        "outputId": "39877c8b-a60b-4791-b08d-affb22d28ddb"
      },
      "source": [
        "#Evaluate on the training set\n",
        "p_score = precision_score(y_train_original,y_predicted)\n",
        "r_score = recall_score(y_train_original,y_predicted)\n",
        "f1_sc = f1_score(y_train_original,y_predicted)\n",
        "print(p_score, r_score, f1_sc) "
      ],
      "execution_count": null,
      "outputs": [
        {
          "output_type": "stream",
          "text": [
            "0.8881987577639752 0.9727891156462585 0.9285714285714285\n"
          ],
          "name": "stdout"
        }
      ]
    },
    {
      "cell_type": "markdown",
      "metadata": {
        "id": "q3OVjC_bpo1W"
      },
      "source": [
        "*Evaluate on the test set*"
      ]
    },
    {
      "cell_type": "code",
      "metadata": {
        "id": "Db6cug9NYqxL"
      },
      "source": [
        "#Get the test set predicitons\n",
        "y_predicted = rf_cls.predict(X_test_pca)"
      ],
      "execution_count": null,
      "outputs": []
    },
    {
      "cell_type": "markdown",
      "metadata": {
        "id": "AQIztwAfpEPQ"
      },
      "source": [
        "*Show the confusion matrix for the test set*"
      ]
    },
    {
      "cell_type": "code",
      "metadata": {
        "colab": {
          "base_uri": "https://localhost:8080/"
        },
        "id": "Ao78HSGXpEPW",
        "outputId": "60c8b373-72aa-453b-f38b-acbb55beb9ff"
      },
      "source": [
        "confusion_matrix(y_test,y_predicted)"
      ],
      "execution_count": null,
      "outputs": [
        {
          "output_type": "execute_result",
          "data": {
            "text/plain": [
              "array([[11,  3],\n",
              "       [ 2, 15]])"
            ]
          },
          "metadata": {
            "tags": []
          },
          "execution_count": 285
        }
      ]
    },
    {
      "cell_type": "code",
      "metadata": {
        "colab": {
          "base_uri": "https://localhost:8080/"
        },
        "id": "dQk3cPBTZDHF",
        "outputId": "c2b3eff3-2c22-4a78-8acf-aa4569fc3952"
      },
      "source": [
        "#Evaluate on the test set\n",
        "p_score = precision_score(y_test,y_predicted)\n",
        "r_score = recall_score(y_test,y_predicted)\n",
        "f1_sc =  f1_score(y_test,y_predicted)\n",
        "\n",
        "print(p_score, r_score,f1_sc) "
      ],
      "execution_count": null,
      "outputs": [
        {
          "output_type": "stream",
          "text": [
            "0.8333333333333334 0.8823529411764706 0.8571428571428571\n"
          ],
          "name": "stdout"
        }
      ]
    },
    {
      "cell_type": "markdown",
      "metadata": {
        "id": "TxVqhNand4sj"
      },
      "source": [
        "**Nice!! The recall value on the test set is 0.882 which is good , the precision value is also 0.83 which is accpeted. However, the logisitic regression model seems to be better than the random forest**"
      ]
    },
    {
      "cell_type": "markdown",
      "metadata": {
        "id": "jLL77_tvuF_R"
      },
      "source": [
        "## SVM "
      ]
    },
    {
      "cell_type": "markdown",
      "metadata": {
        "id": "m1XIZfRNuLYZ"
      },
      "source": [
        "Due to the relative small size of the dataset, cross validation grid search is used to assess different SVM models. CV is solely used at first to identify the range for each parameter"
      ]
    },
    {
      "cell_type": "markdown",
      "metadata": {
        "id": "_jMxshi6vKT8"
      },
      "source": [
        "##### 1- Linear Kernel"
      ]
    },
    {
      "cell_type": "code",
      "metadata": {
        "colab": {
          "base_uri": "https://localhost:8080/",
          "height": 512
        },
        "id": "ckiE8jI35UhV",
        "outputId": "128e540a-2955-47e3-d385-0ddc2ad20951"
      },
      "source": [
        "# varying C for linear Kernel\n",
        "C_range=np.arange(1,10,1)\n",
        "acc_score_recall=[]\n",
        "acc_score_precision=[]\n",
        "for c in C_range:\n",
        "    svc = SVC(kernel='linear', C=c)\n",
        "    print(c)\n",
        "    recall_scores = cross_val_score(svc, X_train_pca, y_train_original, cv=10, scoring='recall')\n",
        "    precision_scores = cross_val_score(svc, X_train_pca, y_train_original, cv=10, scoring='precision')\n",
        "    acc_score_recall.append(recall_scores.mean())\n",
        "    acc_score_precision.append(precision_scores.mean())\n",
        "print(acc_score_recall)\n",
        "print(acc_score_precision)\n",
        "\n",
        "# plot the value of C for SVM (x-axis) versus the cross-validated accuracy (y-axis)\n",
        "plt.plot(C_range,acc_score_recall)\n",
        "plt.plot(C_range,acc_score_precision)\n",
        "plt.xlabel('Value of C for SVC')\n",
        "plt.ylabel('Cross-Validated Accuracy')"
      ],
      "execution_count": null,
      "outputs": [
        {
          "output_type": "stream",
          "text": [
            "1\n",
            "2\n",
            "3\n",
            "4\n",
            "5\n",
            "6\n",
            "7\n",
            "8\n",
            "9\n",
            "[0.8838095238095237, 0.8838095238095237, 0.8838095238095237, 0.8838095238095237, 0.8838095238095237, 0.8838095238095237, 0.8838095238095237, 0.8838095238095237, 0.8838095238095237]\n",
            "[0.7798752395695119, 0.7798752395695119, 0.7798752395695119, 0.7798752395695119, 0.7754892746572313, 0.7754892746572313, 0.7754892746572313, 0.7754892746572313, 0.7754892746572313]\n"
          ],
          "name": "stdout"
        },
        {
          "output_type": "execute_result",
          "data": {
            "text/plain": [
              "Text(0, 0.5, 'Cross-Validated Accuracy')"
            ]
          },
          "metadata": {
            "tags": []
          },
          "execution_count": 287
        },
        {
          "output_type": "display_data",
          "data": {
            "image/png": "[encoded data removed]",
            "text/plain": [
              "<Figure size 432x288 with 1 Axes>"
            ]
          },
          "metadata": {
            "tags": [],
            "needs_background": "light"
          }
        }
      ]
    },
    {
      "cell_type": "code",
      "metadata": {
        "colab": {
          "base_uri": "https://localhost:8080/",
          "height": 512
        },
        "id": "uX6NMyRgm89v",
        "outputId": "cb968112-158d-4152-bbe3-3ff865db9fe2"
      },
      "source": [
        "# varying C for linear Kernel\n",
        "C_range=np.arange(0.1,1,0.1)\n",
        "acc_score_recall=[]\n",
        "acc_score_precision=[]\n",
        "for c in C_range:\n",
        "    print(c)\n",
        "    svc = SVC(kernel='linear', C=c)\n",
        "    recall_scores = cross_val_score(svc, X_train_pca, y_train_original, cv=10, scoring='recall')\n",
        "    precision_scores = cross_val_score(svc, X_train_pca, y_train_original, cv=10, scoring='precision')\n",
        "    acc_score_recall.append(recall_scores.mean())\n",
        "    acc_score_precision.append(precision_scores.mean())\n",
        "print(acc_score_recall)\n",
        "print(acc_score_precision)\n",
        "\n",
        "# plot the value of C for SVM (x-axis) versus the cross-validated accuracy (y-axis)\n",
        "plt.plot(C_range,acc_score_recall)\n",
        "plt.plot(C_range,acc_score_precision)\n",
        "plt.xlabel('Value of C for SVC')\n",
        "plt.ylabel('Cross-Validated Accuracy')"
      ],
      "execution_count": null,
      "outputs": [
        {
          "output_type": "stream",
          "text": [
            "0.1\n",
            "0.2\n",
            "0.30000000000000004\n",
            "0.4\n",
            "0.5\n",
            "0.6\n",
            "0.7000000000000001\n",
            "0.8\n",
            "0.9\n",
            "[0.8838095238095237, 0.877142857142857, 0.877142857142857, 0.877142857142857, 0.877142857142857, 0.877142857142857, 0.8838095238095237, 0.8838095238095237, 0.8838095238095237]\n",
            "[0.7754892746572313, 0.7788948474126491, 0.7788948474126491, 0.7788948474126491, 0.7788948474126491, 0.7788948474126491, 0.7798752395695119, 0.7798752395695119, 0.7798752395695119]\n"
          ],
          "name": "stdout"
        },
        {
          "output_type": "execute_result",
          "data": {
            "text/plain": [
              "Text(0, 0.5, 'Cross-Validated Accuracy')"
            ]
          },
          "metadata": {
            "tags": []
          },
          "execution_count": 288
        },
        {
          "output_type": "display_data",
          "data": {
            "image/png": "[encoded data removed]",
            "text/plain": [
              "<Figure size 432x288 with 1 Axes>"
            ]
          },
          "metadata": {
            "tags": [],
            "needs_background": "light"
          }
        }
      ]
    },
    {
      "cell_type": "code",
      "metadata": {
        "colab": {
          "base_uri": "https://localhost:8080/",
          "height": 352
        },
        "id": "qjm9CtQghy7h",
        "outputId": "d0ca05bc-947d-4c97-c088-413d8361c4fc"
      },
      "source": [
        "# varying C for linear Kernel\n",
        "C_range=np.arange(0.01,0.1,0.01)\n",
        "acc_score_recall=[]\n",
        "acc_score_precision=[]\n",
        "for c in C_range:\n",
        "\n",
        "    svc = SVC(kernel='linear', C=c)\n",
        "    recall_scores = cross_val_score(svc, X_train_pca, y_train_original, cv=10, scoring='recall')\n",
        "    precision_scores = cross_val_score(svc, X_train_pca, y_train_original, cv=10, scoring='precision')\n",
        "    acc_score_recall.append(recall_scores.mean())\n",
        "    acc_score_precision.append(precision_scores.mean())\n",
        "print(acc_score_recall)\n",
        "print(acc_score_precision)\n",
        "\n",
        "# plot the value of C for SVM (x-axis) versus the cross-validated accuracy (y-axis)\n",
        "plt.plot(C_range,acc_score_recall)\n",
        "plt.plot(C_range,acc_score_precision)\n",
        "plt.xlabel('Value of C for SVC')\n",
        "plt.ylabel('Cross-Validated Accuracy')"
      ],
      "execution_count": null,
      "outputs": [
        {
          "output_type": "stream",
          "text": [
            "[0.8914285714285715, 0.9047619047619049, 0.8980952380952381, 0.8980952380952381, 0.8909523809523809, 0.8838095238095237, 0.8838095238095237, 0.8838095238095237, 0.8838095238095237]\n",
            "[0.7363454592363261, 0.7667982456140351, 0.7651642586859305, 0.7636949604403165, 0.7671099931200551, 0.7661576121676741, 0.770251179419136, 0.770251179419136, 0.770251179419136]\n"
          ],
          "name": "stdout"
        },
        {
          "output_type": "execute_result",
          "data": {
            "text/plain": [
              "Text(0, 0.5, 'Cross-Validated Accuracy')"
            ]
          },
          "metadata": {
            "tags": []
          },
          "execution_count": 289
        },
        {
          "output_type": "display_data",
          "data": {
            "image/png": "[encoded data removed]",
            "text/plain": [
              "<Figure size 432x288 with 1 Axes>"
            ]
          },
          "metadata": {
            "tags": [],
            "needs_background": "light"
          }
        }
      ]
    },
    {
      "cell_type": "markdown",
      "metadata": {
        "id": "krO1sTej9u-f"
      },
      "source": [
        "##### 2- rbf Kernel"
      ]
    },
    {
      "cell_type": "code",
      "metadata": {
        "colab": {
          "base_uri": "https://localhost:8080/",
          "height": 352
        },
        "id": "Ccf34-iCG51R",
        "outputId": "dcf5593a-2e91-47ba-b30f-8c323c14c046"
      },
      "source": [
        "# varying gamma for rbf kernel\n",
        "gamma_range = list(np.arange(1,100,10))\n",
        "acc_score_recall_rbf=[]\n",
        "acc_score_precision_rbf=[]\n",
        "for g in gamma_range:\n",
        "    svc = SVC(kernel='rbf', gamma=g)\n",
        "    recall_scores = cross_val_score(svc, X_train_pca, y_train_original, cv=10, scoring='recall')\n",
        "    precision_scores = cross_val_score(svc, X_train_pca, y_train_original, cv=10, scoring='precision')\n",
        "    acc_score_recall_rbf.append(recall_scores.mean())\n",
        "    acc_score_precision_rbf.append(precision_scores.mean())\n",
        "print(acc_score_recall_rbf)\n",
        "print(acc_score_precision_rbf)\n",
        "\n",
        "# plot the value of C for SVM (x-axis) versus the cross-validated accuracy (y-axis)\n",
        "plt.plot(gamma_range,acc_score_recall_rbf)\n",
        "plt.plot(gamma_range,acc_score_precision_rbf)\n",
        "plt.xlabel('Value of gamma for rbf kernel SVC with C=0.04')\n",
        "plt.ylabel('Cross-Validated Accuracy')"
      ],
      "execution_count": null,
      "outputs": [
        {
          "output_type": "stream",
          "text": [
            "[1.0, 1.0, 1.0, 1.0, 1.0, 1.0, 1.0, 1.0, 1.0, 1.0]\n",
            "[0.5424603174603174, 0.5424603174603174, 0.5424603174603174, 0.5424603174603174, 0.5424603174603174, 0.5424603174603174, 0.5424603174603174, 0.5424603174603174, 0.5424603174603174, 0.5424603174603174]\n"
          ],
          "name": "stdout"
        },
        {
          "output_type": "execute_result",
          "data": {
            "text/plain": [
              "Text(0, 0.5, 'Cross-Validated Accuracy')"
            ]
          },
          "metadata": {
            "tags": []
          },
          "execution_count": 290
        },
        {
          "output_type": "display_data",
          "data": {
            "image/png": "[encoded data removed]",
            "text/plain": [
              "<Figure size 432x288 with 1 Axes>"
            ]
          },
          "metadata": {
            "tags": [],
            "needs_background": "light"
          }
        }
      ]
    },
    {
      "cell_type": "code",
      "metadata": {
        "colab": {
          "base_uri": "https://localhost:8080/",
          "height": 352
        },
        "id": "G_xX29tS_CmZ",
        "outputId": "c506080e-94d9-4d09-bf32-6fc5e970a4fa"
      },
      "source": [
        "# varying gamma for rbf kernel\n",
        "gamma_range = list(np.arange(0.01,0.11,0.01))\n",
        "acc_score_recall_rbf=[]\n",
        "acc_score_precision_rbf=[]\n",
        "for g in gamma_range:\n",
        "    svc = SVC(kernel='rbf', gamma=g)\n",
        "    recall_scores = cross_val_score(svc, X_train_pca, y_train_original, cv=10, scoring='recall')\n",
        "    precision_scores = cross_val_score(svc, X_train_pca, y_train_original, cv=10, scoring='precision')\n",
        "    acc_score_recall_rbf.append(recall_scores.mean())\n",
        "    acc_score_precision_rbf.append(precision_scores.mean())\n",
        "print(acc_score_recall_rbf)\n",
        "print(acc_score_precision_rbf)\n",
        "\n",
        "# plot the value of C for SVM (x-axis) versus the cross-validated accuracy (y-axis)\n",
        "plt.plot(gamma_range,acc_score_recall_rbf)\n",
        "plt.plot(gamma_range,acc_score_precision_rbf)\n",
        "plt.xlabel('Value of gamma for rbf kernel SVC with C=0.04')\n",
        "plt.ylabel('Cross-Validated Accuracy')"
      ],
      "execution_count": null,
      "outputs": [
        {
          "output_type": "stream",
          "text": [
            "[0.780952380952381, 0.9047619047619048, 0.9595238095238094, 0.9800000000000001, 0.9800000000000001, 0.9800000000000001, 0.9800000000000001, 0.9866666666666667, 0.9866666666666667, 0.9866666666666667]\n",
            "[0.5683803605347555, 0.5556422200987419, 0.5580811965811966, 0.5563304843304844, 0.5498746438746438, 0.5455840455840455, 0.5455840455840455, 0.5472934472934472, 0.5430199430199429, 0.539041514041514]\n"
          ],
          "name": "stdout"
        },
        {
          "output_type": "execute_result",
          "data": {
            "text/plain": [
              "Text(0, 0.5, 'Cross-Validated Accuracy')"
            ]
          },
          "metadata": {
            "tags": []
          },
          "execution_count": 291
        },
        {
          "output_type": "display_data",
          "data": {
            "image/png": "[encoded data removed]",
            "text/plain": [
              "<Figure size 432x288 with 1 Axes>"
            ]
          },
          "metadata": {
            "tags": [],
            "needs_background": "light"
          }
        }
      ]
    },
    {
      "cell_type": "code",
      "metadata": {
        "colab": {
          "base_uri": "https://localhost:8080/",
          "height": 353
        },
        "id": "XhMWf87W_5K6",
        "outputId": "04cc450b-8bc1-421a-d1a7-38b1c1653c43"
      },
      "source": [
        "# varying gamma for rbf kernel\n",
        "gamma_range = list(np.arange(0.0001,0.0011,0.0001))\n",
        "acc_score_recall_rbf=[]\n",
        "acc_score_precision_rbf=[]\n",
        "for g in gamma_range:\n",
        "    svc = SVC(kernel='rbf', gamma=g)\n",
        "    recall_scores = cross_val_score(svc, X_train_pca, y_train_original, cv=10, scoring='recall')\n",
        "    precision_scores = cross_val_score(svc, X_train_pca, y_train_original, cv=10, scoring='precision')\n",
        "    acc_score_recall_rbf.append(recall_scores.mean())\n",
        "    acc_score_precision_rbf.append(precision_scores.mean())\n",
        "print(acc_score_recall_rbf)\n",
        "print(acc_score_precision_rbf)\n",
        "\n",
        "# plot the value of C for SVM (x-axis) versus the cross-validated accuracy (y-axis)\n",
        "plt.plot(gamma_range,acc_score_recall_rbf)\n",
        "plt.plot(gamma_range,acc_score_precision_rbf)\n",
        "plt.xlabel('Value of gamma for rbf kernel SVC with C=0.04')\n",
        "plt.ylabel('Cross-Validated Accuracy')"
      ],
      "execution_count": null,
      "outputs": [
        {
          "output_type": "stream",
          "text": [
            "[0.7609523809523809, 0.7747619047619048, 0.7404761904761904, 0.72, 0.7, 0.6866666666666666, 0.7, 0.7, 0.7, 0.7066666666666667]\n",
            "[0.6511241673702974, 0.6468596900175847, 0.6352065826330532, 0.6368323996265174, 0.6215244559362206, 0.6179950441715147, 0.6252744559362207, 0.6216796846943906, 0.6174313186813187, 0.6274313186813186]\n"
          ],
          "name": "stdout"
        },
        {
          "output_type": "execute_result",
          "data": {
            "text/plain": [
              "Text(0, 0.5, 'Cross-Validated Accuracy')"
            ]
          },
          "metadata": {
            "tags": []
          },
          "execution_count": 292
        },
        {
          "output_type": "display_data",
          "data": {
            "image/png": "[encoded data removed]",
            "text/plain": [
              "<Figure size 432x288 with 1 Axes>"
            ]
          },
          "metadata": {
            "tags": [],
            "needs_background": "light"
          }
        }
      ]
    },
    {
      "cell_type": "markdown",
      "metadata": {
        "id": "8WaOvXlfKHAE"
      },
      "source": [
        "##### 3- Poly Kernel"
      ]
    },
    {
      "cell_type": "code",
      "metadata": {
        "colab": {
          "base_uri": "https://localhost:8080/",
          "height": 421
        },
        "id": "5APBl9Jo8AKl",
        "outputId": "127b6524-d546-4598-9d3c-7e7997b56741"
      },
      "source": [
        "degree_range=list(range(1,5,1))\n",
        "acc_score_poly=[]\n",
        "acc_score_recall=[]\n",
        "acc_score_precision=[]\n",
        "for deg in degree_range:\n",
        "    print(deg)\n",
        "    svc = SVC(kernel='poly', degree=deg)\n",
        "    scores = cross_val_score(svc, X_train_pca, y_train_original, cv=10, scoring='f1')\n",
        "    scores_precision = cross_val_score(svc, X_train_pca, y_train_original, cv=10, scoring='precision')\n",
        "    scores_recall = cross_val_score(svc, X_train_pca, y_train_original, cv=10, scoring='recall')\n",
        "    acc_score_poly.append(scores.mean())\n",
        "    acc_score_precision.append(scores_precision.mean())\n",
        "    acc_score_recall.append(scores_recall.mean())\n",
        "print(list(zip(degree_range,acc_score_poly)))\n",
        "print(list(zip(degree_range,acc_score_recall)))\n",
        "print(list(zip(degree_range,acc_score_precision)))\n",
        "# plot the value of C for SVM (x-axis) versus the cross-validated accuracy (y-axis)\n",
        "plt.plot(degree_range,acc_score_poly)\n",
        "plt.plot(degree_range,acc_score_recall)\n",
        "plt.plot(degree_range,acc_score_precision)\n",
        "plt.legend(labels= [\"f1\",\"recall\",\"precision\"])\n",
        "plt.xlabel('Value of degree for SVC')\n",
        "plt.ylabel('Cross-Validated Accuracy')"
      ],
      "execution_count": null,
      "outputs": [
        {
          "output_type": "stream",
          "text": [
            "1\n",
            "2\n",
            "3\n",
            "4\n",
            "[(1, 0.7235563390402101), (2, 0.7080118803931384), (3, 0.747668478194794), (4, 0.7046298438403703)]\n",
            "[(1, 0.7952380952380953), (2, 0.9657142857142859), (3, 0.9452380952380952), (4, 0.9447619047619048)]\n",
            "[(1, 0.6702020202020202), (2, 0.5597533022533023), (3, 0.6195026350461134), (4, 0.5627921354008311)]\n"
          ],
          "name": "stdout"
        },
        {
          "output_type": "execute_result",
          "data": {
            "text/plain": [
              "Text(0, 0.5, 'Cross-Validated Accuracy')"
            ]
          },
          "metadata": {
            "tags": []
          },
          "execution_count": 293
        },
        {
          "output_type": "display_data",
          "data": {
            "image/png": "[encoded data removed]",
            "text/plain": [
              "<Figure size 432x288 with 1 Axes>"
            ]
          },
          "metadata": {
            "tags": [],
            "needs_background": "light"
          }
        }
      ]
    },
    {
      "cell_type": "markdown",
      "metadata": {
        "id": "FdFHOl8194ub"
      },
      "source": [
        "#### Grid Search"
      ]
    },
    {
      "cell_type": "code",
      "metadata": {
        "colab": {
          "base_uri": "https://localhost:8080/"
        },
        "id": "AmU_I0NUyn7_",
        "outputId": "55a6034f-31f2-4c89-d41b-0efb9ec41ee4"
      },
      "source": [
        "tuned_parameters = {\n",
        "    'C':  [0.003,0.005,1],\n",
        "    'gamma':[0.0001,'scale'],\n",
        "    \"degree\": [3],\n",
        "    \"kernel\":[ 'rbf', 'linear', 'poly']\n",
        "\n",
        "}\n",
        "svm= SVC()\n",
        "\n",
        "svm = GridSearchCV(svm, tuned_parameters,cv=10,scoring=\"recall\")\n",
        "svm.fit(X_train_pca, y_train_original)\n",
        "print(svm.best_score_)\n",
        "print(svm.best_params_)\n",
        "\n",
        "y_train_predict = svm.predict(X_train_pca)\n",
        "recall_Score = recall_score(y_train_original,y_train_predict)\n",
        "precision_Score = precision_score(y_train_original,y_train_predict)\n",
        "accuracy_Score = accuracy_score(y_train_original,y_train_predict)\n",
        "print(\"Recall score = {}\\nPrecision score = {}\\nAccuracy score = {}\".format(recall_Score, precision_Score, accuracy_Score))\n",
        "confusion_matrix(y_train_original,y_train_predict)"
      ],
      "execution_count": null,
      "outputs": [
        {
          "output_type": "stream",
          "text": [
            "1.0\n",
            "{'C': 0.003, 'degree': 3, 'gamma': 0.0001, 'kernel': 'rbf'}\n",
            "Recall score = 1.0\n",
            "Precision score = 0.5424354243542435\n",
            "Accuracy score = 0.5424354243542435\n"
          ],
          "name": "stdout"
        },
        {
          "output_type": "execute_result",
          "data": {
            "text/plain": [
              "array([[  0, 124],\n",
              "       [  0, 147]])"
            ]
          },
          "metadata": {
            "tags": []
          },
          "execution_count": 294
        }
      ]
    },
    {
      "cell_type": "code",
      "metadata": {
        "colab": {
          "base_uri": "https://localhost:8080/"
        },
        "id": "xvmqGwRP4eX-",
        "outputId": "5594ec1c-722e-4a9c-94c2-0969fb41b775"
      },
      "source": [
        "tuned_parameters = {\n",
        "    'C':  [0.003,0.005,1],\n",
        "    'gamma':[0.0001,'scale'],\n",
        "    \"degree\": [3],\n",
        "    \"kernel\":[ 'rbf', 'linear', 'poly']\n",
        "\n",
        "}\n",
        "svm= SVC()\n",
        "\n",
        "svm = GridSearchCV(svm, tuned_parameters,cv=10,scoring=\"accuracy\")\n",
        "svm.fit(X_train_pca, y_train_original)\n",
        "print(svm.best_score_)\n",
        "print(svm.best_params_)\n",
        "y_train_predict = svm.predict(X_train_pca)\n",
        "recall_Score = recall_score(y_train_original,y_train_predict)\n",
        "precision_Score = precision_score(y_train_original,y_train_predict)\n",
        "accuracy_Score = accuracy_score(y_train_original,y_train_predict)\n",
        "print(\"Recall score = {}\\nPrecision score = {}\\nAccuracy score = {}\".format(recall_Score, precision_Score, accuracy_Score))\n",
        "confusion_matrix(y_train_original,y_train_predict)"
      ],
      "execution_count": null,
      "outputs": [
        {
          "output_type": "stream",
          "text": [
            "0.8005291005291004\n",
            "{'C': 1, 'degree': 3, 'gamma': 0.0001, 'kernel': 'linear'}\n",
            "Recall score = 0.891156462585034\n",
            "Precision score = 0.7891566265060241\n",
            "Accuracy score = 0.8118081180811808\n"
          ],
          "name": "stdout"
        },
        {
          "output_type": "execute_result",
          "data": {
            "text/plain": [
              "array([[ 89,  35],\n",
              "       [ 16, 131]])"
            ]
          },
          "metadata": {
            "tags": []
          },
          "execution_count": 295
        }
      ]
    },
    {
      "cell_type": "code",
      "metadata": {
        "id": "RGCucpqMyrk-",
        "colab": {
          "base_uri": "https://localhost:8080/"
        },
        "outputId": "dc7812d1-d125-4ea5-b527-65824bba7a12"
      },
      "source": [
        "tuned_parameters = {\n",
        "    'C':  [0.003,1,1.5],\n",
        "    'gamma':[0.0001,'scale'],\n",
        "    \"degree\": [3],\n",
        "    \"kernel\":[ 'rbf', 'linear', 'poly']\n",
        "\n",
        "}\n",
        "svm= SVC()\n",
        "\n",
        "svm = GridSearchCV(svm, tuned_parameters,cv=10,scoring='precision')\n",
        "svm.fit(X_train_pca, y_train_original)\n",
        "print(svm.best_score_)\n",
        "print(svm.best_score_)\n",
        "print(svm.best_params_)\n",
        "y_train_predict = svm.predict(X_train_pca)\n",
        "recall_Score = recall_score(y_train_original,y_train_predict)\n",
        "precision_Score = precision_score(y_train_original,y_train_predict)\n",
        "accuracy_Score = accuracy_score(y_train_original,y_train_predict)\n",
        "print(\"Recall score = {}\\nPrecision score = {}\\nAccuracy score = {}\".format(recall_Score, precision_Score, accuracy_Score))\n",
        "confusion_matrix(y_train_original,y_train_predict)"
      ],
      "execution_count": null,
      "outputs": [
        {
          "output_type": "stream",
          "text": [
            "0.7798752395695119\n",
            "0.7798752395695119\n",
            "{'C': 1, 'degree': 3, 'gamma': 0.0001, 'kernel': 'linear'}\n",
            "Recall score = 0.891156462585034\n",
            "Precision score = 0.7891566265060241\n",
            "Accuracy score = 0.8118081180811808\n"
          ],
          "name": "stdout"
        },
        {
          "output_type": "execute_result",
          "data": {
            "text/plain": [
              "array([[ 89,  35],\n",
              "       [ 16, 131]])"
            ]
          },
          "metadata": {
            "tags": []
          },
          "execution_count": 296
        }
      ]
    },
    {
      "cell_type": "markdown",
      "metadata": {
        "id": "2j1bQV86ANTq"
      },
      "source": [
        "#### **Final SVM model**"
      ]
    },
    {
      "cell_type": "code",
      "metadata": {
        "id": "WlfQkAL4FQN1",
        "colab": {
          "base_uri": "https://localhost:8080/"
        },
        "outputId": "34ae2ee2-37ea-46e7-d6e6-7c617022b321"
      },
      "source": [
        "svm_final = SVC(kernel='linear', C=1)\n",
        "svm_final.fit(X_train_pca,y_train_original)\n",
        "y_pred = svm_final.predict(X_test_pca)\n",
        "recall_Score = recall_score(y_test,y_pred)\n",
        "precision_Score = precision_score(y_test,y_pred)\n",
        "accuracy_Score = accuracy_score(y_test,y_pred)\n",
        "print(\"Recall score = {}\\nPrecision score = {}\\nAccuracy score = {}\".format(recall_Score, precision_Score, accuracy_Score))\n",
        "confusion_matrix(y_test,y_pred)"
      ],
      "execution_count": null,
      "outputs": [
        {
          "output_type": "stream",
          "text": [
            "Recall score = 0.8235294117647058\n",
            "Precision score = 0.8235294117647058\n",
            "Accuracy score = 0.8064516129032258\n"
          ],
          "name": "stdout"
        },
        {
          "output_type": "execute_result",
          "data": {
            "text/plain": [
              "array([[11,  3],\n",
              "       [ 3, 14]])"
            ]
          },
          "metadata": {
            "tags": []
          },
          "execution_count": 297
        }
      ]
    }
  ]
}